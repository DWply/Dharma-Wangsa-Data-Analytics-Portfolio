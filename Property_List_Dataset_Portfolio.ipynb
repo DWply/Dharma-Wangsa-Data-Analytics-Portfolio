{
  "nbformat": 4,
  "nbformat_minor": 0,
  "metadata": {
    "colab": {
      "name": "W8_Achmad_Amri_Dharma_Wangsa_Intermediate.ipynb",
      "provenance": [],
      "collapsed_sections": []
    },
    "kernelspec": {
      "name": "python3",
      "display_name": "Python 3"
    },
    "language_info": {
      "name": "python"
    }
  },
  "cells": [
    {
      "cell_type": "code",
      "metadata": {
        "id": "G_VqqcoMH-3B"
      },
      "source": [
        "#import libraries\n",
        "import numpy as np\n",
        "import pandas as pd\n",
        "import datetime\n",
        "import matplotlib.pyplot as plt\n",
        "import seaborn as sns\n",
        "import re"
      ],
      "execution_count": null,
      "outputs": []
    },
    {
      "cell_type": "markdown",
      "metadata": {
        "id": "yVbP5gUuB_jE"
      },
      "source": [
        "# **IMPORTING DATASET**"
      ]
    },
    {
      "cell_type": "code",
      "metadata": {
        "id": "hVtuMTDjImzx",
        "colab": {
          "base_uri": "https://localhost:8080/",
          "height": 424
        },
        "outputId": "412807be-569f-4d80-dc81-3f7afd4c6847"
      },
      "source": [
        "#Declare variable and get data from \"Property List in Kuala Lumpur\"\n",
        "sheet_url = 'https://docs.google.com/spreadsheets/d/1GuIO2t-Og2EyWHBovYRnCDRk8ISsegbAtkFQRVb5U7Y/edit#gid=994179040'\n",
        "sheet_url_trf = sheet_url.replace('/edit#gid=', '/export?format=csv&gid=')\n",
        "df_listproperty = pd.read_csv(sheet_url_trf)\n",
        "df_listproperty"
      ],
      "execution_count": null,
      "outputs": [
        {
          "output_type": "execute_result",
          "data": {
            "text/html": [
              "<div>\n",
              "<style scoped>\n",
              "    .dataframe tbody tr th:only-of-type {\n",
              "        vertical-align: middle;\n",
              "    }\n",
              "\n",
              "    .dataframe tbody tr th {\n",
              "        vertical-align: top;\n",
              "    }\n",
              "\n",
              "    .dataframe thead th {\n",
              "        text-align: right;\n",
              "    }\n",
              "</style>\n",
              "<table border=\"1\" class=\"dataframe\">\n",
              "  <thead>\n",
              "    <tr style=\"text-align: right;\">\n",
              "      <th></th>\n",
              "      <th>Location</th>\n",
              "      <th>Price</th>\n",
              "      <th>Rooms</th>\n",
              "      <th>Bathrooms</th>\n",
              "      <th>Car Parks</th>\n",
              "      <th>Property Type</th>\n",
              "      <th>Size</th>\n",
              "      <th>Furnishing</th>\n",
              "    </tr>\n",
              "  </thead>\n",
              "  <tbody>\n",
              "    <tr>\n",
              "      <th>0</th>\n",
              "      <td>KLCC, Kuala Lumpur</td>\n",
              "      <td>RM 1,250,000</td>\n",
              "      <td>2+1</td>\n",
              "      <td>3.0</td>\n",
              "      <td>2.0</td>\n",
              "      <td>Serviced Residence</td>\n",
              "      <td>Built-up : 1,335 sq. ft.</td>\n",
              "      <td>Fully Furnished</td>\n",
              "    </tr>\n",
              "    <tr>\n",
              "      <th>1</th>\n",
              "      <td>Damansara Heights, Kuala Lumpur</td>\n",
              "      <td>RM 6,800,000</td>\n",
              "      <td>6</td>\n",
              "      <td>7.0</td>\n",
              "      <td>NaN</td>\n",
              "      <td>Bungalow</td>\n",
              "      <td>Land area : 6900 sq. ft.</td>\n",
              "      <td>Partly Furnished</td>\n",
              "    </tr>\n",
              "    <tr>\n",
              "      <th>2</th>\n",
              "      <td>Dutamas, Kuala Lumpur</td>\n",
              "      <td>RM 1,030,000</td>\n",
              "      <td>3</td>\n",
              "      <td>4.0</td>\n",
              "      <td>2.0</td>\n",
              "      <td>Condominium (Corner)</td>\n",
              "      <td>Built-up : 1,875 sq. ft.</td>\n",
              "      <td>Partly Furnished</td>\n",
              "    </tr>\n",
              "    <tr>\n",
              "      <th>3</th>\n",
              "      <td>Cheras, Kuala Lumpur</td>\n",
              "      <td>NaN</td>\n",
              "      <td>NaN</td>\n",
              "      <td>NaN</td>\n",
              "      <td>NaN</td>\n",
              "      <td>NaN</td>\n",
              "      <td>NaN</td>\n",
              "      <td>NaN</td>\n",
              "    </tr>\n",
              "    <tr>\n",
              "      <th>4</th>\n",
              "      <td>Bukit Jalil, Kuala Lumpur</td>\n",
              "      <td>RM 900,000</td>\n",
              "      <td>4+1</td>\n",
              "      <td>3.0</td>\n",
              "      <td>2.0</td>\n",
              "      <td>Condominium (Corner)</td>\n",
              "      <td>Built-up : 1,513 sq. ft.</td>\n",
              "      <td>Partly Furnished</td>\n",
              "    </tr>\n",
              "    <tr>\n",
              "      <th>...</th>\n",
              "      <td>...</td>\n",
              "      <td>...</td>\n",
              "      <td>...</td>\n",
              "      <td>...</td>\n",
              "      <td>...</td>\n",
              "      <td>...</td>\n",
              "      <td>...</td>\n",
              "      <td>...</td>\n",
              "    </tr>\n",
              "    <tr>\n",
              "      <th>53878</th>\n",
              "      <td>Bangsar, Kuala Lumpur</td>\n",
              "      <td>RM 5,100,000</td>\n",
              "      <td>5+1</td>\n",
              "      <td>4.0</td>\n",
              "      <td>NaN</td>\n",
              "      <td>Bungalow (Corner)</td>\n",
              "      <td>Land area : 7168 sq. ft.</td>\n",
              "      <td>Fully Furnished</td>\n",
              "    </tr>\n",
              "    <tr>\n",
              "      <th>53879</th>\n",
              "      <td>Bangsar, Kuala Lumpur</td>\n",
              "      <td>RM 5,000,000</td>\n",
              "      <td>5</td>\n",
              "      <td>4.0</td>\n",
              "      <td>NaN</td>\n",
              "      <td>Bungalow (Intermediate)</td>\n",
              "      <td>Land area : 15000 sq. ft.</td>\n",
              "      <td>Unfurnished</td>\n",
              "    </tr>\n",
              "    <tr>\n",
              "      <th>53880</th>\n",
              "      <td>Bangsar, Kuala Lumpur</td>\n",
              "      <td>RM 5,500,000</td>\n",
              "      <td>5+1</td>\n",
              "      <td>4.0</td>\n",
              "      <td>NaN</td>\n",
              "      <td>Bungalow (Intermediate)</td>\n",
              "      <td>Land area : 7168 sq. ft.</td>\n",
              "      <td>Partly Furnished</td>\n",
              "    </tr>\n",
              "    <tr>\n",
              "      <th>53881</th>\n",
              "      <td>Wangsa Maju, Kuala Lumpur</td>\n",
              "      <td>RM 480,000</td>\n",
              "      <td>3</td>\n",
              "      <td>2.0</td>\n",
              "      <td>NaN</td>\n",
              "      <td>Condominium (Intermediate)</td>\n",
              "      <td>Built-up : 1,150 sq. ft.</td>\n",
              "      <td>Unfurnished</td>\n",
              "    </tr>\n",
              "    <tr>\n",
              "      <th>53882</th>\n",
              "      <td>Setapak, Kuala Lumpur</td>\n",
              "      <td>RM 540,000</td>\n",
              "      <td>4</td>\n",
              "      <td>2.0</td>\n",
              "      <td>3.0</td>\n",
              "      <td>Condominium (Intermediate)</td>\n",
              "      <td>Built-up : 1,313 sq. ft.</td>\n",
              "      <td>Partly Furnished</td>\n",
              "    </tr>\n",
              "  </tbody>\n",
              "</table>\n",
              "<p>53883 rows × 8 columns</p>\n",
              "</div>"
            ],
            "text/plain": [
              "                              Location  ...        Furnishing\n",
              "0                   KLCC, Kuala Lumpur  ...   Fully Furnished\n",
              "1      Damansara Heights, Kuala Lumpur  ...  Partly Furnished\n",
              "2                Dutamas, Kuala Lumpur  ...  Partly Furnished\n",
              "3                 Cheras, Kuala Lumpur  ...               NaN\n",
              "4            Bukit Jalil, Kuala Lumpur  ...  Partly Furnished\n",
              "...                                ...  ...               ...\n",
              "53878            Bangsar, Kuala Lumpur  ...   Fully Furnished\n",
              "53879            Bangsar, Kuala Lumpur  ...       Unfurnished\n",
              "53880            Bangsar, Kuala Lumpur  ...  Partly Furnished\n",
              "53881        Wangsa Maju, Kuala Lumpur  ...       Unfurnished\n",
              "53882            Setapak, Kuala Lumpur  ...  Partly Furnished\n",
              "\n",
              "[53883 rows x 8 columns]"
            ]
          },
          "metadata": {},
          "execution_count": 207
        }
      ]
    },
    {
      "cell_type": "code",
      "metadata": {
        "colab": {
          "base_uri": "https://localhost:8080/"
        },
        "id": "wzQghfxm90Wq",
        "outputId": "1091f7b5-11a7-427e-f484-b9697eaeaeb5"
      },
      "source": [
        "df_listproperty.info()"
      ],
      "execution_count": null,
      "outputs": [
        {
          "output_type": "stream",
          "name": "stdout",
          "text": [
            "<class 'pandas.core.frame.DataFrame'>\n",
            "RangeIndex: 53883 entries, 0 to 53882\n",
            "Data columns (total 8 columns):\n",
            " #   Column         Non-Null Count  Dtype  \n",
            "---  ------         --------------  -----  \n",
            " 0   Location       53883 non-null  object \n",
            " 1   Price          53635 non-null  object \n",
            " 2   Rooms          52177 non-null  object \n",
            " 3   Bathrooms      51870 non-null  float64\n",
            " 4   Car Parks      36316 non-null  float64\n",
            " 5   Property Type  53858 non-null  object \n",
            " 6   Size           52820 non-null  object \n",
            " 7   Furnishing     46953 non-null  object \n",
            "dtypes: float64(2), object(6)\n",
            "memory usage: 3.3+ MB\n"
          ]
        }
      ]
    },
    {
      "cell_type": "markdown",
      "metadata": {
        "id": "LoiW26zjCZNA"
      },
      "source": [
        "**Findings:**\n",
        "\n",
        "Dari informasi Data Type yang ada kita bisa melihat masih terdapat format string di dalam nilai Price, Rooms dan Size. Hal ini perlu diubah ke dalam numerik agar dapat dilakukan analisis statistik numerik."
      ]
    },
    {
      "cell_type": "markdown",
      "metadata": {
        "id": "AaDDZlg-CEgs"
      },
      "source": [
        "# **DATA CLEANING**"
      ]
    },
    {
      "cell_type": "code",
      "metadata": {
        "colab": {
          "base_uri": "https://localhost:8080/",
          "height": 424
        },
        "id": "T88IEHkG0GKm",
        "outputId": "b304edae-cbb6-4d48-f05a-41029c205484"
      },
      "source": [
        "#Handling duplicate values\n",
        "duplicate = df_listproperty[df_listproperty.duplicated()]\n",
        "duplicate"
      ],
      "execution_count": null,
      "outputs": [
        {
          "output_type": "execute_result",
          "data": {
            "text/html": [
              "<div>\n",
              "<style scoped>\n",
              "    .dataframe tbody tr th:only-of-type {\n",
              "        vertical-align: middle;\n",
              "    }\n",
              "\n",
              "    .dataframe tbody tr th {\n",
              "        vertical-align: top;\n",
              "    }\n",
              "\n",
              "    .dataframe thead th {\n",
              "        text-align: right;\n",
              "    }\n",
              "</style>\n",
              "<table border=\"1\" class=\"dataframe\">\n",
              "  <thead>\n",
              "    <tr style=\"text-align: right;\">\n",
              "      <th></th>\n",
              "      <th>Location</th>\n",
              "      <th>Price</th>\n",
              "      <th>Rooms</th>\n",
              "      <th>Bathrooms</th>\n",
              "      <th>Car Parks</th>\n",
              "      <th>Property Type</th>\n",
              "      <th>Size</th>\n",
              "      <th>Furnishing</th>\n",
              "    </tr>\n",
              "  </thead>\n",
              "  <tbody>\n",
              "    <tr>\n",
              "      <th>3</th>\n",
              "      <td>Cheras, Kuala Lumpur</td>\n",
              "      <td>NaN</td>\n",
              "      <td>NaN</td>\n",
              "      <td>NaN</td>\n",
              "      <td>NaN</td>\n",
              "      <td>NaN</td>\n",
              "      <td>NaN</td>\n",
              "      <td>NaN</td>\n",
              "    </tr>\n",
              "    <tr>\n",
              "      <th>4</th>\n",
              "      <td>Bukit Jalil, Kuala Lumpur</td>\n",
              "      <td>RM 900,000</td>\n",
              "      <td>4+1</td>\n",
              "      <td>3.0</td>\n",
              "      <td>2.0</td>\n",
              "      <td>Condominium (Corner)</td>\n",
              "      <td>Built-up : 1,513 sq. ft.</td>\n",
              "      <td>Partly Furnished</td>\n",
              "    </tr>\n",
              "    <tr>\n",
              "      <th>12</th>\n",
              "      <td>Taman Tun Dr Ismail, Kuala Lumpur</td>\n",
              "      <td>RM 1,700,000</td>\n",
              "      <td>3+1</td>\n",
              "      <td>3.0</td>\n",
              "      <td>NaN</td>\n",
              "      <td>2-sty Terrace/Link House (Intermediate)</td>\n",
              "      <td>Land area : 1900 sq. ft.</td>\n",
              "      <td>Partly Furnished</td>\n",
              "    </tr>\n",
              "    <tr>\n",
              "      <th>14</th>\n",
              "      <td>Bukit Jalil, Kuala Lumpur</td>\n",
              "      <td>NaN</td>\n",
              "      <td>NaN</td>\n",
              "      <td>NaN</td>\n",
              "      <td>NaN</td>\n",
              "      <td>NaN</td>\n",
              "      <td>NaN</td>\n",
              "      <td>NaN</td>\n",
              "    </tr>\n",
              "    <tr>\n",
              "      <th>22</th>\n",
              "      <td>Mont Kiara, Kuala Lumpur</td>\n",
              "      <td>RM 1,500,000</td>\n",
              "      <td>3+1</td>\n",
              "      <td>4.0</td>\n",
              "      <td>3.0</td>\n",
              "      <td>Condominium</td>\n",
              "      <td>Built-up : 2,163 sq. ft.</td>\n",
              "      <td>Fully Furnished</td>\n",
              "    </tr>\n",
              "    <tr>\n",
              "      <th>...</th>\n",
              "      <td>...</td>\n",
              "      <td>...</td>\n",
              "      <td>...</td>\n",
              "      <td>...</td>\n",
              "      <td>...</td>\n",
              "      <td>...</td>\n",
              "      <td>...</td>\n",
              "      <td>...</td>\n",
              "    </tr>\n",
              "    <tr>\n",
              "      <th>53488</th>\n",
              "      <td>Sentul, Kuala Lumpur</td>\n",
              "      <td>RM 430,000</td>\n",
              "      <td>4</td>\n",
              "      <td>2.0</td>\n",
              "      <td>2.0</td>\n",
              "      <td>Condominium</td>\n",
              "      <td>Built-up : 1,184 sq. ft.</td>\n",
              "      <td>Partly Furnished</td>\n",
              "    </tr>\n",
              "    <tr>\n",
              "      <th>53490</th>\n",
              "      <td>Batu Caves, Kuala Lumpur</td>\n",
              "      <td>RM 380,000</td>\n",
              "      <td>3</td>\n",
              "      <td>2.0</td>\n",
              "      <td>NaN</td>\n",
              "      <td>Condominium</td>\n",
              "      <td>Built-up : 1,130 sq. ft.</td>\n",
              "      <td>Partly Furnished</td>\n",
              "    </tr>\n",
              "    <tr>\n",
              "      <th>53496</th>\n",
              "      <td>Segambut, Kuala Lumpur</td>\n",
              "      <td>RM 650,000</td>\n",
              "      <td>3</td>\n",
              "      <td>3.0</td>\n",
              "      <td>2.0</td>\n",
              "      <td>Condominium</td>\n",
              "      <td>Built-up : 1,155 sq. ft.</td>\n",
              "      <td>Partly Furnished</td>\n",
              "    </tr>\n",
              "    <tr>\n",
              "      <th>53497</th>\n",
              "      <td>Segambut, Kuala Lumpur</td>\n",
              "      <td>RM 700,000</td>\n",
              "      <td>3+1</td>\n",
              "      <td>3.0</td>\n",
              "      <td>2.0</td>\n",
              "      <td>Condominium</td>\n",
              "      <td>Built-up : 1,300 sq. ft.</td>\n",
              "      <td>Partly Furnished</td>\n",
              "    </tr>\n",
              "    <tr>\n",
              "      <th>53833</th>\n",
              "      <td>Sri Hartamas, Kuala Lumpur</td>\n",
              "      <td>RM 430,000</td>\n",
              "      <td>Studio</td>\n",
              "      <td>1.0</td>\n",
              "      <td>NaN</td>\n",
              "      <td>Serviced Residence (Corner)</td>\n",
              "      <td>Built-up : 500 sq. ft.</td>\n",
              "      <td>Fully Furnished</td>\n",
              "    </tr>\n",
              "  </tbody>\n",
              "</table>\n",
              "<p>4467 rows × 8 columns</p>\n",
              "</div>"
            ],
            "text/plain": [
              "                                Location  ...        Furnishing\n",
              "3                   Cheras, Kuala Lumpur  ...               NaN\n",
              "4              Bukit Jalil, Kuala Lumpur  ...  Partly Furnished\n",
              "12     Taman Tun Dr Ismail, Kuala Lumpur  ...  Partly Furnished\n",
              "14             Bukit Jalil, Kuala Lumpur  ...               NaN\n",
              "22              Mont Kiara, Kuala Lumpur  ...   Fully Furnished\n",
              "...                                  ...  ...               ...\n",
              "53488               Sentul, Kuala Lumpur  ...  Partly Furnished\n",
              "53490           Batu Caves, Kuala Lumpur  ...  Partly Furnished\n",
              "53496             Segambut, Kuala Lumpur  ...  Partly Furnished\n",
              "53497             Segambut, Kuala Lumpur  ...  Partly Furnished\n",
              "53833         Sri Hartamas, Kuala Lumpur  ...   Fully Furnished\n",
              "\n",
              "[4467 rows x 8 columns]"
            ]
          },
          "metadata": {},
          "execution_count": 213
        }
      ]
    },
    {
      "cell_type": "markdown",
      "metadata": {
        "id": "55Iz7cF_1jbP"
      },
      "source": [
        "Dapat dilihat terdapat 4.467 data duplikat pada dataset ini. Dikarenakan tidak terdapat kolom unik seperti property ID, kemungkinan data memiliki nilai yang sama sangat bisa terjadi. Sehingga nilai duplikat saat ini diasumsikan sebagai data yang unik dan tidak dihilangkan.   "
      ]
    },
    {
      "cell_type": "code",
      "metadata": {
        "colab": {
          "base_uri": "https://localhost:8080/"
        },
        "id": "XS4yfW-cQgn9",
        "outputId": "de4884b5-a1e2-4e7e-961f-4a83f3b25e42"
      },
      "source": [
        "#Checking Null Value\n",
        "pd.isnull(df_listproperty).sum()"
      ],
      "execution_count": null,
      "outputs": [
        {
          "output_type": "execute_result",
          "data": {
            "text/plain": [
              "Location             0\n",
              "Price              248\n",
              "Rooms             1706\n",
              "Bathrooms         2013\n",
              "Car Parks        17567\n",
              "Property Type       25\n",
              "Size              1063\n",
              "Furnishing        6930\n",
              "dtype: int64"
            ]
          },
          "metadata": {},
          "execution_count": 139
        }
      ]
    },
    {
      "cell_type": "markdown",
      "metadata": {
        "id": "o-OnCHCifx_-"
      },
      "source": [
        "**Price Column**"
      ]
    },
    {
      "cell_type": "code",
      "metadata": {
        "colab": {
          "base_uri": "https://localhost:8080/",
          "height": 424
        },
        "id": "OJkYY86XRXZK",
        "outputId": "e4918ede-269d-433a-c61a-72a247783a52"
      },
      "source": [
        "df_listproperty[df_listproperty['Price'].isnull()]"
      ],
      "execution_count": null,
      "outputs": [
        {
          "output_type": "execute_result",
          "data": {
            "text/html": [
              "<div>\n",
              "<style scoped>\n",
              "    .dataframe tbody tr th:only-of-type {\n",
              "        vertical-align: middle;\n",
              "    }\n",
              "\n",
              "    .dataframe tbody tr th {\n",
              "        vertical-align: top;\n",
              "    }\n",
              "\n",
              "    .dataframe thead th {\n",
              "        text-align: right;\n",
              "    }\n",
              "</style>\n",
              "<table border=\"1\" class=\"dataframe\">\n",
              "  <thead>\n",
              "    <tr style=\"text-align: right;\">\n",
              "      <th></th>\n",
              "      <th>Location</th>\n",
              "      <th>Price</th>\n",
              "      <th>Rooms</th>\n",
              "      <th>Bathrooms</th>\n",
              "      <th>Car Parks</th>\n",
              "      <th>Property Type</th>\n",
              "      <th>Size</th>\n",
              "      <th>Furnishing</th>\n",
              "    </tr>\n",
              "  </thead>\n",
              "  <tbody>\n",
              "    <tr>\n",
              "      <th>3</th>\n",
              "      <td>Cheras, Kuala Lumpur</td>\n",
              "      <td>NaN</td>\n",
              "      <td>NaN</td>\n",
              "      <td>NaN</td>\n",
              "      <td>NaN</td>\n",
              "      <td>NaN</td>\n",
              "      <td>NaN</td>\n",
              "      <td>NaN</td>\n",
              "    </tr>\n",
              "    <tr>\n",
              "      <th>6</th>\n",
              "      <td>Seputeh, Kuala Lumpur</td>\n",
              "      <td>NaN</td>\n",
              "      <td>NaN</td>\n",
              "      <td>NaN</td>\n",
              "      <td>NaN</td>\n",
              "      <td>NaN</td>\n",
              "      <td>NaN</td>\n",
              "      <td>NaN</td>\n",
              "    </tr>\n",
              "    <tr>\n",
              "      <th>10</th>\n",
              "      <td>Ampang Hilir, Kuala Lumpur</td>\n",
              "      <td>NaN</td>\n",
              "      <td>NaN</td>\n",
              "      <td>NaN</td>\n",
              "      <td>NaN</td>\n",
              "      <td>NaN</td>\n",
              "      <td>NaN</td>\n",
              "      <td>NaN</td>\n",
              "    </tr>\n",
              "    <tr>\n",
              "      <th>14</th>\n",
              "      <td>Bukit Jalil, Kuala Lumpur</td>\n",
              "      <td>NaN</td>\n",
              "      <td>NaN</td>\n",
              "      <td>NaN</td>\n",
              "      <td>NaN</td>\n",
              "      <td>NaN</td>\n",
              "      <td>NaN</td>\n",
              "      <td>NaN</td>\n",
              "    </tr>\n",
              "    <tr>\n",
              "      <th>25</th>\n",
              "      <td>Sungai Besi, Kuala Lumpur</td>\n",
              "      <td>NaN</td>\n",
              "      <td>5</td>\n",
              "      <td>4.0</td>\n",
              "      <td>NaN</td>\n",
              "      <td>3-sty Terrace/Link House (Intermediate)</td>\n",
              "      <td>Land area : 20x75 sq. ft.</td>\n",
              "      <td>Fully Furnished</td>\n",
              "    </tr>\n",
              "    <tr>\n",
              "      <th>...</th>\n",
              "      <td>...</td>\n",
              "      <td>...</td>\n",
              "      <td>...</td>\n",
              "      <td>...</td>\n",
              "      <td>...</td>\n",
              "      <td>...</td>\n",
              "      <td>...</td>\n",
              "      <td>...</td>\n",
              "    </tr>\n",
              "    <tr>\n",
              "      <th>53075</th>\n",
              "      <td>Mont Kiara, Kuala Lumpur</td>\n",
              "      <td>NaN</td>\n",
              "      <td>3+1</td>\n",
              "      <td>3.0</td>\n",
              "      <td>NaN</td>\n",
              "      <td>Condominium</td>\n",
              "      <td>Built-up : 1,600 sq. ft.</td>\n",
              "      <td>NaN</td>\n",
              "    </tr>\n",
              "    <tr>\n",
              "      <th>53081</th>\n",
              "      <td>Sentul, Kuala Lumpur</td>\n",
              "      <td>NaN</td>\n",
              "      <td>3+1</td>\n",
              "      <td>4.0</td>\n",
              "      <td>1.0</td>\n",
              "      <td>Condominium</td>\n",
              "      <td>Built-up : 1,147 sq. ft.</td>\n",
              "      <td>Partly Furnished</td>\n",
              "    </tr>\n",
              "    <tr>\n",
              "      <th>53082</th>\n",
              "      <td>Sentul, Kuala Lumpur</td>\n",
              "      <td>NaN</td>\n",
              "      <td>2+1</td>\n",
              "      <td>3.0</td>\n",
              "      <td>1.0</td>\n",
              "      <td>Condominium</td>\n",
              "      <td>Built-up : 999 sq. ft.</td>\n",
              "      <td>Fully Furnished</td>\n",
              "    </tr>\n",
              "    <tr>\n",
              "      <th>53083</th>\n",
              "      <td>Sentul, Kuala Lumpur</td>\n",
              "      <td>NaN</td>\n",
              "      <td>2</td>\n",
              "      <td>2.0</td>\n",
              "      <td>1.0</td>\n",
              "      <td>Condominium</td>\n",
              "      <td>Built-up : 781 sq. ft.</td>\n",
              "      <td>Fully Furnished</td>\n",
              "    </tr>\n",
              "    <tr>\n",
              "      <th>53484</th>\n",
              "      <td>Bangsar, Kuala Lumpur</td>\n",
              "      <td>NaN</td>\n",
              "      <td>4</td>\n",
              "      <td>3.0</td>\n",
              "      <td>NaN</td>\n",
              "      <td>2-sty Terrace/Link House (Intermediate)</td>\n",
              "      <td>Land area : 22x85 sq. ft.</td>\n",
              "      <td>Unfurnished</td>\n",
              "    </tr>\n",
              "  </tbody>\n",
              "</table>\n",
              "<p>248 rows × 8 columns</p>\n",
              "</div>"
            ],
            "text/plain": [
              "                         Location  ...        Furnishing\n",
              "3            Cheras, Kuala Lumpur  ...               NaN\n",
              "6           Seputeh, Kuala Lumpur  ...               NaN\n",
              "10     Ampang Hilir, Kuala Lumpur  ...               NaN\n",
              "14      Bukit Jalil, Kuala Lumpur  ...               NaN\n",
              "25      Sungai Besi, Kuala Lumpur  ...   Fully Furnished\n",
              "...                           ...  ...               ...\n",
              "53075    Mont Kiara, Kuala Lumpur  ...               NaN\n",
              "53081        Sentul, Kuala Lumpur  ...  Partly Furnished\n",
              "53082        Sentul, Kuala Lumpur  ...   Fully Furnished\n",
              "53083        Sentul, Kuala Lumpur  ...   Fully Furnished\n",
              "53484       Bangsar, Kuala Lumpur  ...       Unfurnished\n",
              "\n",
              "[248 rows x 8 columns]"
            ]
          },
          "metadata": {},
          "execution_count": 140
        }
      ]
    },
    {
      "cell_type": "markdown",
      "metadata": {
        "id": "SlRps0nYGs9o"
      },
      "source": [
        "Terdapat 248 data yang memiliki nilai Price Null, karena data tersebut hanya sekitar 0,5% dari total data maka data tersebut dapat dihilangkan dan tidak berpengaruh signifikan pada keseluruhan data. "
      ]
    },
    {
      "cell_type": "code",
      "metadata": {
        "colab": {
          "base_uri": "https://localhost:8080/",
          "height": 49
        },
        "id": "E2dLHQ9sVTQu",
        "outputId": "655eea4a-75ed-4b98-c07e-c94b733a4538"
      },
      "source": [
        "#Remove null value in Price Column\n",
        "df_listproperty = df_listproperty.loc[~df_listproperty[\"Price\"].isna()]\n",
        "df_listproperty[df_listproperty['Price'].isnull()] "
      ],
      "execution_count": null,
      "outputs": [
        {
          "output_type": "execute_result",
          "data": {
            "text/html": [
              "<div>\n",
              "<style scoped>\n",
              "    .dataframe tbody tr th:only-of-type {\n",
              "        vertical-align: middle;\n",
              "    }\n",
              "\n",
              "    .dataframe tbody tr th {\n",
              "        vertical-align: top;\n",
              "    }\n",
              "\n",
              "    .dataframe thead th {\n",
              "        text-align: right;\n",
              "    }\n",
              "</style>\n",
              "<table border=\"1\" class=\"dataframe\">\n",
              "  <thead>\n",
              "    <tr style=\"text-align: right;\">\n",
              "      <th></th>\n",
              "      <th>Location</th>\n",
              "      <th>Price</th>\n",
              "      <th>Rooms</th>\n",
              "      <th>Bathrooms</th>\n",
              "      <th>Car Parks</th>\n",
              "      <th>Property Type</th>\n",
              "      <th>Size</th>\n",
              "      <th>Furnishing</th>\n",
              "    </tr>\n",
              "  </thead>\n",
              "  <tbody>\n",
              "  </tbody>\n",
              "</table>\n",
              "</div>"
            ],
            "text/plain": [
              "Empty DataFrame\n",
              "Columns: [Location, Price, Rooms, Bathrooms, Car Parks, Property Type, Size, Furnishing]\n",
              "Index: []"
            ]
          },
          "metadata": {},
          "execution_count": 141
        }
      ]
    },
    {
      "cell_type": "code",
      "metadata": {
        "colab": {
          "base_uri": "https://localhost:8080/"
        },
        "id": "yOcadenAJVrr",
        "outputId": "a4cde37d-3387-48af-eb90-279c1e633ba5"
      },
      "source": [
        "#Cleaning Price Column so we can get only numbers and convert to integer data type\n",
        "df_listproperty['Price']=df_listproperty['Price'].str.strip().str.replace('RM', '').str.replace(',', '')\n",
        "df_listproperty['Price'] = df_listproperty['Price'].astype(int)\n"
      ],
      "execution_count": null,
      "outputs": [
        {
          "output_type": "stream",
          "name": "stderr",
          "text": [
            "/usr/local/lib/python3.7/dist-packages/ipykernel_launcher.py:2: SettingWithCopyWarning: \n",
            "A value is trying to be set on a copy of a slice from a DataFrame.\n",
            "Try using .loc[row_indexer,col_indexer] = value instead\n",
            "\n",
            "See the caveats in the documentation: https://pandas.pydata.org/pandas-docs/stable/user_guide/indexing.html#returning-a-view-versus-a-copy\n",
            "  \n",
            "/usr/local/lib/python3.7/dist-packages/ipykernel_launcher.py:3: SettingWithCopyWarning: \n",
            "A value is trying to be set on a copy of a slice from a DataFrame.\n",
            "Try using .loc[row_indexer,col_indexer] = value instead\n",
            "\n",
            "See the caveats in the documentation: https://pandas.pydata.org/pandas-docs/stable/user_guide/indexing.html#returning-a-view-versus-a-copy\n",
            "  This is separate from the ipykernel package so we can avoid doing imports until\n"
          ]
        }
      ]
    },
    {
      "cell_type": "code",
      "metadata": {
        "colab": {
          "base_uri": "https://localhost:8080/",
          "height": 619
        },
        "id": "VZN3KCj01DWZ",
        "outputId": "0f59701a-7851-4308-e76e-a91d6fc406a0"
      },
      "source": [
        "#Checking Outlier Value in Price Column\n",
        "df_listproperty.boxplot(column='Price', fontsize=10, rot=0, grid=False, figsize=(10,10))"
      ],
      "execution_count": null,
      "outputs": [
        {
          "output_type": "execute_result",
          "data": {
            "text/plain": [
              "<matplotlib.axes._subplots.AxesSubplot at 0x7fcb71b83290>"
            ]
          },
          "metadata": {},
          "execution_count": 143
        },
        {
          "output_type": "display_data",
          "data": {
            "image/png": "[encoded data removed]",
            "text/plain": [
              "<Figure size 720x720 with 1 Axes>"
            ]
          },
          "metadata": {
            "needs_background": "light"
          }
        }
      ]
    },
    {
      "cell_type": "markdown",
      "metadata": {
        "id": "5obwS4gFNH_o"
      },
      "source": [
        "Dari visualisasi boxplot di atas, terdapat data yang berada di luar kotak boxplot dan diasumsikan sebagai nilai outlier. Perlu dilakukan filtering nilai outlier tersebut untuk dikeluarkan dari perhitungan analisis selanjutnya. "
      ]
    },
    {
      "cell_type": "code",
      "metadata": {
        "colab": {
          "base_uri": "https://localhost:8080/"
        },
        "id": "j9F6lnDS1lGt",
        "outputId": "04e53338-deda-4829-855d-f3f62d48337e"
      },
      "source": [
        "#Calculate IQR Stats (Price Column)\n",
        "\n",
        "c_q1 = df_listproperty['Price'].quantile(0.25)\n",
        "c_q3 = df_listproperty['Price'].quantile(0.75)\n",
        "c_iqr = c_q3 - c_q1\n",
        "boxplot_c_min = c_q1 - 3 * c_iqr\n",
        "boxplot_c_max = c_q3 + 3 * c_iqr\n",
        "print('Q1: ', c_q1)\n",
        "print('Q3: ', c_q3)\n",
        "print('IQR: ', c_iqr)\n",
        "print('Min: ', boxplot_c_min)\n",
        "print('Max: ', boxplot_c_max)"
      ],
      "execution_count": null,
      "outputs": [
        {
          "output_type": "stream",
          "name": "stdout",
          "text": [
            "Q1:  580000.0\n",
            "Q3:  1996400.0\n",
            "IQR:  1416400.0\n",
            "Min:  -3669200.0\n",
            "Max:  6245600.0\n"
          ]
        }
      ]
    },
    {
      "cell_type": "markdown",
      "metadata": {
        "id": "qNCMqZCwaRlC"
      },
      "source": [
        "Mendefinisikan batas minimum dan maksimum nilai Price berdasarkan metode Interquantile Range. Analis menggunakan koefisien nilai 3 tidak seperti formula IQR pada umumnya 1,5. Hal ini dikarenakan masih banyaknya jumlah data yang menjadi outlier pada koefisien 1,5 sehingga toleransi batas minimum dan maksimumnya diperlebar menjadi 3. "
      ]
    },
    {
      "cell_type": "code",
      "metadata": {
        "colab": {
          "base_uri": "https://localhost:8080/",
          "height": 424
        },
        "id": "OaFptHBA12LQ",
        "outputId": "2b4dbdb7-1fc3-4efc-d2a4-45c996dd7bbf"
      },
      "source": [
        "#exclude outlier in Price column\n",
        "df_priceout = df_listproperty[(df_listproperty['Price'] <= boxplot_c_min) | (df_listproperty['Price'] > boxplot_c_max)]\n",
        "df_priceout"
      ],
      "execution_count": null,
      "outputs": [
        {
          "output_type": "execute_result",
          "data": {
            "text/html": [
              "<div>\n",
              "<style scoped>\n",
              "    .dataframe tbody tr th:only-of-type {\n",
              "        vertical-align: middle;\n",
              "    }\n",
              "\n",
              "    .dataframe tbody tr th {\n",
              "        vertical-align: top;\n",
              "    }\n",
              "\n",
              "    .dataframe thead th {\n",
              "        text-align: right;\n",
              "    }\n",
              "</style>\n",
              "<table border=\"1\" class=\"dataframe\">\n",
              "  <thead>\n",
              "    <tr style=\"text-align: right;\">\n",
              "      <th></th>\n",
              "      <th>Location</th>\n",
              "      <th>Price</th>\n",
              "      <th>Rooms</th>\n",
              "      <th>Bathrooms</th>\n",
              "      <th>Car Parks</th>\n",
              "      <th>Property Type</th>\n",
              "      <th>Size</th>\n",
              "      <th>Furnishing</th>\n",
              "    </tr>\n",
              "  </thead>\n",
              "  <tbody>\n",
              "    <tr>\n",
              "      <th>1</th>\n",
              "      <td>Damansara Heights, Kuala Lumpur</td>\n",
              "      <td>6800000</td>\n",
              "      <td>6</td>\n",
              "      <td>7.0</td>\n",
              "      <td>NaN</td>\n",
              "      <td>Bungalow</td>\n",
              "      <td>Land area : 6900 sq. ft.</td>\n",
              "      <td>Partly Furnished</td>\n",
              "    </tr>\n",
              "    <tr>\n",
              "      <th>16</th>\n",
              "      <td>Bukit Tunku (Kenny Hills), Kuala Lumpur</td>\n",
              "      <td>9000000</td>\n",
              "      <td>6+1</td>\n",
              "      <td>7.0</td>\n",
              "      <td>4.0</td>\n",
              "      <td>Bungalow (Corner)</td>\n",
              "      <td>Land area : 8500 sq. ft.</td>\n",
              "      <td>Partly Furnished</td>\n",
              "    </tr>\n",
              "    <tr>\n",
              "      <th>107</th>\n",
              "      <td>Damansara Heights, Kuala Lumpur</td>\n",
              "      <td>6800000</td>\n",
              "      <td>5+2</td>\n",
              "      <td>7.0</td>\n",
              "      <td>NaN</td>\n",
              "      <td>Bungalow</td>\n",
              "      <td>Land area : 7000 sq. ft.</td>\n",
              "      <td>NaN</td>\n",
              "    </tr>\n",
              "    <tr>\n",
              "      <th>141</th>\n",
              "      <td>Country Heights Damansara, Kuala Lumpur</td>\n",
              "      <td>9500000</td>\n",
              "      <td>6+1</td>\n",
              "      <td>7.0</td>\n",
              "      <td>6.0</td>\n",
              "      <td>Bungalow (Corner)</td>\n",
              "      <td>Land area : 10000 sq. ft.</td>\n",
              "      <td>Partly Furnished</td>\n",
              "    </tr>\n",
              "    <tr>\n",
              "      <th>142</th>\n",
              "      <td>KLCC, Kuala Lumpur</td>\n",
              "      <td>8343600</td>\n",
              "      <td>3</td>\n",
              "      <td>3.0</td>\n",
              "      <td>2.0</td>\n",
              "      <td>Condominium (Intermediate)</td>\n",
              "      <td>Built-up : 2,454 sq. ft.</td>\n",
              "      <td>NaN</td>\n",
              "    </tr>\n",
              "    <tr>\n",
              "      <th>...</th>\n",
              "      <td>...</td>\n",
              "      <td>...</td>\n",
              "      <td>...</td>\n",
              "      <td>...</td>\n",
              "      <td>...</td>\n",
              "      <td>...</td>\n",
              "      <td>...</td>\n",
              "      <td>...</td>\n",
              "    </tr>\n",
              "    <tr>\n",
              "      <th>53721</th>\n",
              "      <td>Damansara Heights, Kuala Lumpur</td>\n",
              "      <td>6670888</td>\n",
              "      <td>5+1</td>\n",
              "      <td>6.0</td>\n",
              "      <td>NaN</td>\n",
              "      <td>Semi-detached House (EndLot)</td>\n",
              "      <td>Land area : 24x85 sq. ft.</td>\n",
              "      <td>Partly Furnished</td>\n",
              "    </tr>\n",
              "    <tr>\n",
              "      <th>53743</th>\n",
              "      <td>Seputeh, Kuala Lumpur</td>\n",
              "      <td>6380000</td>\n",
              "      <td>7+1</td>\n",
              "      <td>8.0</td>\n",
              "      <td>NaN</td>\n",
              "      <td>Bungalow (Corner)</td>\n",
              "      <td>Land area : 7125 sq. ft.</td>\n",
              "      <td>Partly Furnished</td>\n",
              "    </tr>\n",
              "    <tr>\n",
              "      <th>53777</th>\n",
              "      <td>Setapak, Kuala Lumpur</td>\n",
              "      <td>15600000</td>\n",
              "      <td>NaN</td>\n",
              "      <td>NaN</td>\n",
              "      <td>NaN</td>\n",
              "      <td>Residential Land (Intermediate)</td>\n",
              "      <td>Land area : 2.117 acres</td>\n",
              "      <td>Unfurnished</td>\n",
              "    </tr>\n",
              "    <tr>\n",
              "      <th>53828</th>\n",
              "      <td>Titiwangsa, Kuala Lumpur</td>\n",
              "      <td>8000000</td>\n",
              "      <td>7</td>\n",
              "      <td>6.0</td>\n",
              "      <td>6.0</td>\n",
              "      <td>Bungalow (Corner)</td>\n",
              "      <td>Land area : 9795 sq. ft.</td>\n",
              "      <td>Partly Furnished</td>\n",
              "    </tr>\n",
              "    <tr>\n",
              "      <th>53877</th>\n",
              "      <td>Mont Kiara, Kuala Lumpur</td>\n",
              "      <td>6500000</td>\n",
              "      <td>5+1</td>\n",
              "      <td>6.0</td>\n",
              "      <td>NaN</td>\n",
              "      <td>Bungalow (Corner)</td>\n",
              "      <td>Land area : 6500 sq. ft.</td>\n",
              "      <td>Partly Furnished</td>\n",
              "    </tr>\n",
              "  </tbody>\n",
              "</table>\n",
              "<p>2640 rows × 8 columns</p>\n",
              "</div>"
            ],
            "text/plain": [
              "                                      Location  ...        Furnishing\n",
              "1              Damansara Heights, Kuala Lumpur  ...  Partly Furnished\n",
              "16     Bukit Tunku (Kenny Hills), Kuala Lumpur  ...  Partly Furnished\n",
              "107            Damansara Heights, Kuala Lumpur  ...               NaN\n",
              "141    Country Heights Damansara, Kuala Lumpur  ...  Partly Furnished\n",
              "142                         KLCC, Kuala Lumpur  ...               NaN\n",
              "...                                        ...  ...               ...\n",
              "53721          Damansara Heights, Kuala Lumpur  ...  Partly Furnished\n",
              "53743                    Seputeh, Kuala Lumpur  ...  Partly Furnished\n",
              "53777                    Setapak, Kuala Lumpur  ...       Unfurnished\n",
              "53828                 Titiwangsa, Kuala Lumpur  ...  Partly Furnished\n",
              "53877                 Mont Kiara, Kuala Lumpur  ...  Partly Furnished\n",
              "\n",
              "[2640 rows x 8 columns]"
            ]
          },
          "metadata": {},
          "execution_count": 145
        }
      ]
    },
    {
      "cell_type": "markdown",
      "metadata": {
        "id": "27pePbE6bqPU"
      },
      "source": [
        "Sekitar 4,6% data dinyatakan sebagai outlier, sehingga tidak dijadikan dasar perhitungan analisis selanjutnya."
      ]
    },
    {
      "cell_type": "code",
      "metadata": {
        "colab": {
          "base_uri": "https://localhost:8080/",
          "height": 424
        },
        "id": "GJhICnH94F9w",
        "outputId": "414da156-f543-4e4b-de40-1d4fd0c88a25"
      },
      "source": [
        "df_listproperty = df_listproperty[(df_listproperty['Price'] >= boxplot_c_min) & (df_listproperty['Price'] < boxplot_c_max)]\n",
        "df_listproperty"
      ],
      "execution_count": null,
      "outputs": [
        {
          "output_type": "execute_result",
          "data": {
            "text/html": [
              "<div>\n",
              "<style scoped>\n",
              "    .dataframe tbody tr th:only-of-type {\n",
              "        vertical-align: middle;\n",
              "    }\n",
              "\n",
              "    .dataframe tbody tr th {\n",
              "        vertical-align: top;\n",
              "    }\n",
              "\n",
              "    .dataframe thead th {\n",
              "        text-align: right;\n",
              "    }\n",
              "</style>\n",
              "<table border=\"1\" class=\"dataframe\">\n",
              "  <thead>\n",
              "    <tr style=\"text-align: right;\">\n",
              "      <th></th>\n",
              "      <th>Location</th>\n",
              "      <th>Price</th>\n",
              "      <th>Rooms</th>\n",
              "      <th>Bathrooms</th>\n",
              "      <th>Car Parks</th>\n",
              "      <th>Property Type</th>\n",
              "      <th>Size</th>\n",
              "      <th>Furnishing</th>\n",
              "    </tr>\n",
              "  </thead>\n",
              "  <tbody>\n",
              "    <tr>\n",
              "      <th>0</th>\n",
              "      <td>KLCC, Kuala Lumpur</td>\n",
              "      <td>1250000</td>\n",
              "      <td>2+1</td>\n",
              "      <td>3.0</td>\n",
              "      <td>2.0</td>\n",
              "      <td>Serviced Residence</td>\n",
              "      <td>Built-up : 1,335 sq. ft.</td>\n",
              "      <td>Fully Furnished</td>\n",
              "    </tr>\n",
              "    <tr>\n",
              "      <th>2</th>\n",
              "      <td>Dutamas, Kuala Lumpur</td>\n",
              "      <td>1030000</td>\n",
              "      <td>3</td>\n",
              "      <td>4.0</td>\n",
              "      <td>2.0</td>\n",
              "      <td>Condominium (Corner)</td>\n",
              "      <td>Built-up : 1,875 sq. ft.</td>\n",
              "      <td>Partly Furnished</td>\n",
              "    </tr>\n",
              "    <tr>\n",
              "      <th>4</th>\n",
              "      <td>Bukit Jalil, Kuala Lumpur</td>\n",
              "      <td>900000</td>\n",
              "      <td>4+1</td>\n",
              "      <td>3.0</td>\n",
              "      <td>2.0</td>\n",
              "      <td>Condominium (Corner)</td>\n",
              "      <td>Built-up : 1,513 sq. ft.</td>\n",
              "      <td>Partly Furnished</td>\n",
              "    </tr>\n",
              "    <tr>\n",
              "      <th>5</th>\n",
              "      <td>Taman Tun Dr Ismail, Kuala Lumpur</td>\n",
              "      <td>5350000</td>\n",
              "      <td>4+2</td>\n",
              "      <td>5.0</td>\n",
              "      <td>4.0</td>\n",
              "      <td>Bungalow</td>\n",
              "      <td>Land area : 7200 sq. ft.</td>\n",
              "      <td>Partly Furnished</td>\n",
              "    </tr>\n",
              "    <tr>\n",
              "      <th>7</th>\n",
              "      <td>Taman Tun Dr Ismail, Kuala Lumpur</td>\n",
              "      <td>2600000</td>\n",
              "      <td>5</td>\n",
              "      <td>4.0</td>\n",
              "      <td>4.0</td>\n",
              "      <td>Semi-detached House</td>\n",
              "      <td>Land area : 3600 sq. ft.</td>\n",
              "      <td>Partly Furnished</td>\n",
              "    </tr>\n",
              "    <tr>\n",
              "      <th>...</th>\n",
              "      <td>...</td>\n",
              "      <td>...</td>\n",
              "      <td>...</td>\n",
              "      <td>...</td>\n",
              "      <td>...</td>\n",
              "      <td>...</td>\n",
              "      <td>...</td>\n",
              "      <td>...</td>\n",
              "    </tr>\n",
              "    <tr>\n",
              "      <th>53878</th>\n",
              "      <td>Bangsar, Kuala Lumpur</td>\n",
              "      <td>5100000</td>\n",
              "      <td>5+1</td>\n",
              "      <td>4.0</td>\n",
              "      <td>NaN</td>\n",
              "      <td>Bungalow (Corner)</td>\n",
              "      <td>Land area : 7168 sq. ft.</td>\n",
              "      <td>Fully Furnished</td>\n",
              "    </tr>\n",
              "    <tr>\n",
              "      <th>53879</th>\n",
              "      <td>Bangsar, Kuala Lumpur</td>\n",
              "      <td>5000000</td>\n",
              "      <td>5</td>\n",
              "      <td>4.0</td>\n",
              "      <td>NaN</td>\n",
              "      <td>Bungalow (Intermediate)</td>\n",
              "      <td>Land area : 15000 sq. ft.</td>\n",
              "      <td>Unfurnished</td>\n",
              "    </tr>\n",
              "    <tr>\n",
              "      <th>53880</th>\n",
              "      <td>Bangsar, Kuala Lumpur</td>\n",
              "      <td>5500000</td>\n",
              "      <td>5+1</td>\n",
              "      <td>4.0</td>\n",
              "      <td>NaN</td>\n",
              "      <td>Bungalow (Intermediate)</td>\n",
              "      <td>Land area : 7168 sq. ft.</td>\n",
              "      <td>Partly Furnished</td>\n",
              "    </tr>\n",
              "    <tr>\n",
              "      <th>53881</th>\n",
              "      <td>Wangsa Maju, Kuala Lumpur</td>\n",
              "      <td>480000</td>\n",
              "      <td>3</td>\n",
              "      <td>2.0</td>\n",
              "      <td>NaN</td>\n",
              "      <td>Condominium (Intermediate)</td>\n",
              "      <td>Built-up : 1,150 sq. ft.</td>\n",
              "      <td>Unfurnished</td>\n",
              "    </tr>\n",
              "    <tr>\n",
              "      <th>53882</th>\n",
              "      <td>Setapak, Kuala Lumpur</td>\n",
              "      <td>540000</td>\n",
              "      <td>4</td>\n",
              "      <td>2.0</td>\n",
              "      <td>3.0</td>\n",
              "      <td>Condominium (Intermediate)</td>\n",
              "      <td>Built-up : 1,313 sq. ft.</td>\n",
              "      <td>Partly Furnished</td>\n",
              "    </tr>\n",
              "  </tbody>\n",
              "</table>\n",
              "<p>50995 rows × 8 columns</p>\n",
              "</div>"
            ],
            "text/plain": [
              "                                Location  ...        Furnishing\n",
              "0                     KLCC, Kuala Lumpur  ...   Fully Furnished\n",
              "2                  Dutamas, Kuala Lumpur  ...  Partly Furnished\n",
              "4              Bukit Jalil, Kuala Lumpur  ...  Partly Furnished\n",
              "5      Taman Tun Dr Ismail, Kuala Lumpur  ...  Partly Furnished\n",
              "7      Taman Tun Dr Ismail, Kuala Lumpur  ...  Partly Furnished\n",
              "...                                  ...  ...               ...\n",
              "53878              Bangsar, Kuala Lumpur  ...   Fully Furnished\n",
              "53879              Bangsar, Kuala Lumpur  ...       Unfurnished\n",
              "53880              Bangsar, Kuala Lumpur  ...  Partly Furnished\n",
              "53881          Wangsa Maju, Kuala Lumpur  ...       Unfurnished\n",
              "53882              Setapak, Kuala Lumpur  ...  Partly Furnished\n",
              "\n",
              "[50995 rows x 8 columns]"
            ]
          },
          "metadata": {},
          "execution_count": 146
        }
      ]
    },
    {
      "cell_type": "code",
      "metadata": {
        "colab": {
          "base_uri": "https://localhost:8080/"
        },
        "id": "NMCp9jT3OJqz",
        "outputId": "6786f979-5bfb-49c0-8a52-cceb0aeefb0e"
      },
      "source": [
        "df_listproperty.info()"
      ],
      "execution_count": null,
      "outputs": [
        {
          "output_type": "stream",
          "name": "stdout",
          "text": [
            "<class 'pandas.core.frame.DataFrame'>\n",
            "Int64Index: 50995 entries, 0 to 53882\n",
            "Data columns (total 8 columns):\n",
            " #   Column         Non-Null Count  Dtype  \n",
            "---  ------         --------------  -----  \n",
            " 0   Location       50995 non-null  object \n",
            " 1   Price          50995 non-null  int64  \n",
            " 2   Rooms          49842 non-null  object \n",
            " 3   Bathrooms      49567 non-null  float64\n",
            " 4   Car Parks      35025 non-null  float64\n",
            " 5   Property Type  50995 non-null  object \n",
            " 6   Size           49996 non-null  object \n",
            " 7   Furnishing     44739 non-null  object \n",
            "dtypes: float64(2), int64(1), object(5)\n",
            "memory usage: 3.5+ MB\n"
          ]
        }
      ]
    },
    {
      "cell_type": "markdown",
      "metadata": {
        "id": "wi_fWs6gf4OL"
      },
      "source": [
        "**Location Column**"
      ]
    },
    {
      "cell_type": "code",
      "metadata": {
        "colab": {
          "base_uri": "https://localhost:8080/"
        },
        "id": "pkS9EIGSQ9D4",
        "outputId": "a9285da3-c646-42b0-cb41-23075e3f6ce0"
      },
      "source": [
        "#Handling typos\n",
        "df_listproperty['Location'].unique() #make sure all words using lower case to prevent typos"
      ],
      "execution_count": null,
      "outputs": [
        {
          "output_type": "execute_result",
          "data": {
            "text/plain": [
              "array(['KLCC, Kuala Lumpur', 'Dutamas, Kuala Lumpur',\n",
              "       'Bukit Jalil, Kuala Lumpur', 'Taman Tun Dr Ismail, Kuala Lumpur',\n",
              "       'Sri Petaling, Kuala Lumpur', 'Damansara Heights, Kuala Lumpur',\n",
              "       'Mont Kiara, Kuala Lumpur', 'Desa ParkCity, Kuala Lumpur',\n",
              "       'Bangsar South, Kuala Lumpur', 'Ampang Hilir, Kuala Lumpur',\n",
              "       'Kepong, Kuala Lumpur',\n",
              "       'Jalan Klang Lama (Old Klang Road), Kuala Lumpur',\n",
              "       'Sungai Besi, Kuala Lumpur', 'KL City, Kuala Lumpur',\n",
              "       'KL Sentral, Kuala Lumpur', 'Taman Melawati, Kuala Lumpur',\n",
              "       'Setapak, Kuala Lumpur', 'City Centre, Kuala Lumpur',\n",
              "       'Taman Desa, Kuala Lumpur', 'Sentul, Kuala Lumpur',\n",
              "       'Cheras, Kuala Lumpur', 'Bangsar, Kuala Lumpur',\n",
              "       'Segambut, Kuala Lumpur', 'Batu Caves, Kuala Lumpur',\n",
              "       'Wangsa Maju, Kuala Lumpur', 'Ampang, Kuala Lumpur',\n",
              "       'Klcc, Kuala Lumpur', 'Bukit Kiara, Kuala Lumpur',\n",
              "       'Setiawangsa, Kuala Lumpur', 'OUG, Kuala Lumpur',\n",
              "       'Bukit Bintang, Kuala Lumpur', 'Jalan Sultan Ismail, Kuala Lumpur',\n",
              "       'Chan Sow Lin, Kuala Lumpur', 'Jalan Kuching, Kuala Lumpur',\n",
              "       'Bandar Menjalara, Kuala Lumpur', 'KL Eco City, Kuala Lumpur',\n",
              "       'Seputeh, Kuala Lumpur', 'Sunway SPK, Kuala Lumpur',\n",
              "       'Pantai, Kuala Lumpur', 'ADIVA Desa ParkCity, Kuala Lumpur',\n",
              "       'Sri Hartamas, Kuala Lumpur',\n",
              "       'Bukit Tunku (Kenny Hills), Kuala Lumpur',\n",
              "       'Kuchai Lama, Kuala Lumpur', 'Jalan Ipoh, Kuala Lumpur',\n",
              "       'Mid Valley City, Kuala Lumpur', 'Brickfields, Kuala Lumpur',\n",
              "       'Desa Pandan, Kuala Lumpur', 'Pandan Indah, Kuala Lumpur',\n",
              "       'Desa Petaling, Kuala Lumpur',\n",
              "       'Country Heights Damansara, Kuala Lumpur',\n",
              "       'Federal Hill, Kuala Lumpur', 'Other, Kuala Lumpur',\n",
              "       'Pandan Perdana, Kuala Lumpur',\n",
              "       'Bandar Damai Perdana, Kuala Lumpur', 'Puchong, Kuala Lumpur',\n",
              "       'Keramat, Kuala Lumpur', 'Salak Selatan, Kuala Lumpur',\n",
              "       'SEMARAK, Kuala Lumpur', 'Titiwangsa, Kuala Lumpur',\n",
              "       'Damansara, Kuala Lumpur', 'Bandar Tasik Selatan, Kuala Lumpur',\n",
              "       'Alam Damai, Kuala Lumpur', 'Bukit Ledang, Kuala Lumpur',\n",
              "       'Jinjang, Kuala Lumpur', 'Gombak, Kuala Lumpur',\n",
              "       'Happy Garden, Kuala Lumpur', 'Taman Yarl, Kuala Lumpur',\n",
              "       'Pandan Jaya, Kuala Lumpur', 'Taman TAR, Kuala Lumpur',\n",
              "       'Sungai Penchala, Kuala Lumpur', 'TAMAN MELATI, Kuala Lumpur',\n",
              "       'Taman Duta, Kuala Lumpur', 'Landed Sd, Kuala Lumpur',\n",
              "       'Petaling Jaya, Kuala Lumpur', 'Kuala Lumpur',\n",
              "       'Taman Wangsa Permai, Kuala Lumpur',\n",
              "       'taman cheras perdana, Kuala Lumpur',\n",
              "       'Sri Damansara, Kuala Lumpur', 'Wangsa Melawati, Kuala Lumpur',\n",
              "       'Taman Yarl OUG, Kuala Lumpur', 'Kota Damansara, Kuala Lumpur',\n",
              "       'Taman Ibukota, Kuala Lumpur', 'Ukay Heights, Kuala Lumpur',\n",
              "       'SANTUARI PARK PANTAI, Kuala Lumpur',\n",
              "       'Bandar Sri Damansara, Kuala Lumpur', 'cyberjaya, Kuala Lumpur',\n",
              "       'Taman Yarl, UOG, Kuala Lumpur', 'Sungai Long SL8, Kuala Lumpur',\n",
              "       'Gurney, Kuala Lumpur', 'taman connaught, Kuala Lumpur',\n",
              "       'Bukit Damansara, Kuala Lumpur', 'Kemensah, Kuala Lumpur',\n",
              "       'Rawang, Kuala Lumpur', 'duta Nusantara, Kuala Lumpur',\n",
              "       'Bandar Sri damansara, Kuala Lumpur', 'Casa Rimba, Kuala Lumpur',\n",
              "       'kepong, Kuala Lumpur', 'Taman Sri Keramat, Kuala Lumpur',\n",
              "       'Canary Residence, Kuala Lumpur', 'Taming Jaya, Kuala Lumpur',\n",
              "       'Kuala Lumpur, Kuala Lumpur'], dtype=object)"
            ]
          },
          "metadata": {},
          "execution_count": 148
        }
      ]
    },
    {
      "cell_type": "code",
      "metadata": {
        "colab": {
          "base_uri": "https://localhost:8080/"
        },
        "id": "MkzoGFZuRV0E",
        "outputId": "b83bfa52-7e51-47d6-8751-31c90fe962fb"
      },
      "source": [
        "df_listproperty[\"Location\"] = df_listproperty[\"Location\"].str.lower()\n",
        "df_listproperty['Location'].value_counts()"
      ],
      "execution_count": null,
      "outputs": [
        {
          "output_type": "stream",
          "name": "stderr",
          "text": [
            "/usr/local/lib/python3.7/dist-packages/ipykernel_launcher.py:1: SettingWithCopyWarning: \n",
            "A value is trying to be set on a copy of a slice from a DataFrame.\n",
            "Try using .loc[row_indexer,col_indexer] = value instead\n",
            "\n",
            "See the caveats in the documentation: https://pandas.pydata.org/pandas-docs/stable/user_guide/indexing.html#returning-a-view-versus-a-copy\n",
            "  \"\"\"Entry point for launching an IPython kernel.\n"
          ]
        },
        {
          "output_type": "execute_result",
          "data": {
            "text/plain": [
              "mont kiara, kuala lumpur                           5651\n",
              "klcc, kuala lumpur                                 4998\n",
              "cheras, kuala lumpur                               4453\n",
              "jalan klang lama (old klang road), kuala lumpur    2835\n",
              "setapak, kuala lumpur                              2694\n",
              "                                                   ... \n",
              "semarak, kuala lumpur                                 1\n",
              "duta nusantara, kuala lumpur                          1\n",
              "landed sd, kuala lumpur                               1\n",
              "ukay heights, kuala lumpur                            1\n",
              "petaling jaya, kuala lumpur                           1\n",
              "Name: Location, Length: 98, dtype: int64"
            ]
          },
          "metadata": {},
          "execution_count": 149
        }
      ]
    },
    {
      "cell_type": "markdown",
      "metadata": {
        "id": "wngL6zUaf8Zw"
      },
      "source": [
        "**Rooms Column**"
      ]
    },
    {
      "cell_type": "code",
      "metadata": {
        "colab": {
          "base_uri": "https://localhost:8080/"
        },
        "id": "ED49awRWmYg3",
        "outputId": "7682930b-bc68-420a-ad6c-183032aaa8d6"
      },
      "source": [
        "#string manipulation to get numeric value in Rooms column\n",
        "df_listproperty['Rooms'].unique()"
      ],
      "execution_count": null,
      "outputs": [
        {
          "output_type": "execute_result",
          "data": {
            "text/plain": [
              "array(['2+1', '3', '4+1', '4+2', '5', '4', '3+1', '6+1', '5+1', '3+2',\n",
              "       '1', '2', '6', '1+1', '2+2', '7+1', '5+2', nan, 'Studio', '7', '8',\n",
              "       '1+2', '8+1', '10', '6+', '9', '7+', '9+1', '8+', '18', '10+',\n",
              "       '20 Above', '11', '12', '10+1', '12+', '9+', '11+1'], dtype=object)"
            ]
          },
          "metadata": {},
          "execution_count": 150
        }
      ]
    },
    {
      "cell_type": "code",
      "metadata": {
        "id": "nOp1d8w3nesZ"
      },
      "source": [
        "def convert_room_num(rooms):\n",
        "    try:\n",
        "        if rooms.endswith(\"+\"):\n",
        "            return int(rooms[:-1])\n",
        "        if re.search(\"[0-9]+\\+[0-9]+\", rooms) is not None:\n",
        "            tmp = rooms.split(\"+\")\n",
        "            return int(tmp[0]) + int(tmp[1])\n",
        "        if rooms == \"20 Above\":\n",
        "            return 20\n",
        "        if rooms == \"Studio\":\n",
        "            return 1\n",
        "        return int(rooms)\n",
        "    except AttributeError:\n",
        "        return rooms\n",
        "\n",
        "df_listproperty[\"Room_Number\"] = df_listproperty[\"Rooms\"].apply(convert_room_num)"
      ],
      "execution_count": null,
      "outputs": []
    },
    {
      "cell_type": "markdown",
      "metadata": {
        "id": "ZY8te6bocTu8"
      },
      "source": [
        "Dilakukan string manipulation untuk menghilangkan nilai positif pada kolom rooms. Diasumsikan bahwa karakter + menjadi beberapa fungsi, diantaranya:\n",
        "1. merupakan sebuah operasi penjumlahan, apabila berbentuk format (angka) + (angka)\n",
        "2. merupakan indikasi lebih dari nilai sebelumnya seperti (angka)+, maka diasumsikan angka awal saja yang diambil.\n",
        "\n",
        "Untuk nilai data 'Studio' diasumsikan hanya 1 kamar, '20 above' menjadi 20, dan apabila terdapat bentuk data diluar format tersebut fungsinya akan menjadi error. "
      ]
    },
    {
      "cell_type": "code",
      "metadata": {
        "colab": {
          "base_uri": "https://localhost:8080/"
        },
        "id": "Mdn_SV6Kq5T4",
        "outputId": "a063ab42-9eea-4b8a-ff54-75181c28f494"
      },
      "source": [
        "df_listproperty['Room_Number'].unique()"
      ],
      "execution_count": null,
      "outputs": [
        {
          "output_type": "execute_result",
          "data": {
            "text/plain": [
              "array([ 3.,  5.,  6.,  4.,  7.,  1.,  2.,  8., nan,  9., 10., 18., 20.,\n",
              "       11., 12.])"
            ]
          },
          "metadata": {},
          "execution_count": 152
        }
      ]
    },
    {
      "cell_type": "code",
      "metadata": {
        "id": "1lxoinsKuA5Z"
      },
      "source": [
        "#Handling missing value in Room Number Column with median value\n",
        "df_listproperty['Room_Number'].fillna(\n",
        "    df_listproperty['Room_Number'].median(),axis=0,inplace=True)"
      ],
      "execution_count": null,
      "outputs": []
    },
    {
      "cell_type": "markdown",
      "metadata": {
        "id": "BoAeXG7uf_iM"
      },
      "source": [
        "**Bathrooms Column**"
      ]
    },
    {
      "cell_type": "code",
      "metadata": {
        "colab": {
          "base_uri": "https://localhost:8080/"
        },
        "id": "DhI_lXhRyDBd",
        "outputId": "51777ce2-0703-4228-a713-3b490fe3a31c"
      },
      "source": [
        "df_listproperty['Bathrooms'].unique()"
      ],
      "execution_count": null,
      "outputs": [
        {
          "output_type": "execute_result",
          "data": {
            "text/plain": [
              "array([ 3.,  4.,  5.,  2.,  7.,  6.,  1.,  9.,  8., nan, 20., 10., 14.,\n",
              "       12., 11., 15.])"
            ]
          },
          "metadata": {},
          "execution_count": 154
        }
      ]
    },
    {
      "cell_type": "code",
      "metadata": {
        "id": "KWHwin4_vkNC"
      },
      "source": [
        "#Handling missing value in Bathrooms Column with median value\n",
        "df_listproperty['Bathrooms'].fillna(\n",
        "    df_listproperty['Bathrooms'].median(),axis=0,inplace=True)"
      ],
      "execution_count": null,
      "outputs": []
    },
    {
      "cell_type": "markdown",
      "metadata": {
        "id": "TB_yUEwWgEXx"
      },
      "source": [
        "Clean"
      ]
    },
    {
      "cell_type": "markdown",
      "metadata": {
        "id": "s9o3Uvz0gCfQ"
      },
      "source": [
        "**Car Parks Column**"
      ]
    },
    {
      "cell_type": "code",
      "metadata": {
        "colab": {
          "base_uri": "https://localhost:8080/"
        },
        "id": "3eOgtlqNyLeq",
        "outputId": "cc06cb28-2e02-46f7-c2a7-70c431563db1"
      },
      "source": [
        "df_listproperty['Car Parks'].unique()"
      ],
      "execution_count": null,
      "outputs": [
        {
          "output_type": "execute_result",
          "data": {
            "text/plain": [
              "array([ 2.,  4.,  3.,  1., nan,  5.,  6.,  7.,  9.,  8., 10., 13., 15.,\n",
              "       20., 24., 12., 30., 11.])"
            ]
          },
          "metadata": {},
          "execution_count": 156
        }
      ]
    },
    {
      "cell_type": "code",
      "metadata": {
        "id": "uE3J5YALvc33"
      },
      "source": [
        "#Handling missing value in Car Parks Column with median value\n",
        "df_listproperty['Car Parks'].fillna(\n",
        "    df_listproperty['Car Parks'].median(),axis=0,inplace=True)"
      ],
      "execution_count": null,
      "outputs": []
    },
    {
      "cell_type": "markdown",
      "metadata": {
        "id": "Eolgejn1gFcb"
      },
      "source": [
        "Clean"
      ]
    },
    {
      "cell_type": "markdown",
      "metadata": {
        "id": "b1ZTKQ_fgSWv"
      },
      "source": [
        "**Property Type Column**"
      ]
    },
    {
      "cell_type": "code",
      "metadata": {
        "colab": {
          "base_uri": "https://localhost:8080/"
        },
        "id": "K18YpUy1yVIu",
        "outputId": "4469d090-1216-4c70-d445-97a51ae458e0"
      },
      "source": [
        "df_listproperty['Property Type'].unique()"
      ],
      "execution_count": null,
      "outputs": [
        {
          "output_type": "execute_result",
          "data": {
            "text/plain": [
              "array(['Serviced Residence', 'Condominium (Corner)', 'Bungalow',\n",
              "       'Semi-detached House', '2-sty Terrace/Link House (EndLot)',\n",
              "       'Apartment (Intermediate)',\n",
              "       '2-sty Terrace/Link House (Intermediate)',\n",
              "       'Bungalow (Intermediate)', 'Semi-detached House (Intermediate)',\n",
              "       'Bungalow (Corner)', 'Serviced Residence (Intermediate)',\n",
              "       'Condominium', 'Condominium (Intermediate)',\n",
              "       'Condominium (EndLot)', 'Serviced Residence (Corner)',\n",
              "       '3-sty Terrace/Link House (Intermediate)',\n",
              "       'Serviced Residence (Duplex)', '2-sty Terrace/Link House',\n",
              "       '2-sty Terrace/Link House (Corner)',\n",
              "       '2.5-sty Terrace/Link House (Intermediate)',\n",
              "       '3-sty Terrace/Link House (Corner)',\n",
              "       '3-sty Terrace/Link House (EndLot)',\n",
              "       '3.5-sty Terrace/Link House (Intermediate)',\n",
              "       'Serviced Residence (Penthouse)', 'Condominium (Studio)',\n",
              "       '1-sty Terrace/Link House (Intermediate)',\n",
              "       '1.5-sty Terrace/Link House (EndLot)', 'Apartment',\n",
              "       'Condominium (Duplex)', 'Serviced Residence (EndLot)',\n",
              "       '4-sty Terrace/Link House',\n",
              "       '4-sty Terrace/Link House (Intermediate)', 'Townhouse',\n",
              "       'Semi-detached House (Corner)', 'Townhouse (Intermediate)',\n",
              "       'Apartment (Corner)', '3-sty Terrace/Link House',\n",
              "       'Residential Land', '2.5-sty Terrace/Link House',\n",
              "       '1.5-sty Terrace/Link House (Intermediate)',\n",
              "       'Semi-detached House (EndLot)',\n",
              "       '4.5-sty Terrace/Link House (Intermediate)',\n",
              "       'Condominium (Penthouse)', '2.5-sty Terrace/Link House (EndLot)',\n",
              "       'Serviced Residence (SOHO)', '3.5-sty Terrace/Link House',\n",
              "       '3.5-sty Terrace/Link House (Corner)', '1-sty Terrace/Link House',\n",
              "       'Townhouse (EndLot)', '1-sty Terrace/Link House (Corner)',\n",
              "       'Townhouse (Corner)', 'Bungalow Land',\n",
              "       '1-sty Terrace/Link House (EndLot)', 'Flat (Intermediate)',\n",
              "       '1.5-sty Terrace/Link House (Corner)',\n",
              "       '3-sty Terrace/Link House (Duplex)', 'Serviced Residence (Studio)',\n",
              "       'Residential Land (Corner)', '1.5-sty Terrace/Link House',\n",
              "       '2.5-sty Terrace/Link House (Penthouse)',\n",
              "       '2.5-sty Terrace/Link House (Corner)', 'Flat (Corner)',\n",
              "       'Apartment (EndLot)', '4-sty Terrace/Link House (Corner)', 'Flat',\n",
              "       'Condominium (SOHO)', 'Bungalow (EndLot)',\n",
              "       'Bungalow Land (Intermediate)', 'Bungalow Land (Corner)',\n",
              "       'Residential Land (Intermediate)', 'Flat (EndLot)',\n",
              "       'Serviced Residence (Triplex)', 'Apartment (Duplex)',\n",
              "       'Semi-detached House (Triplex)', 'Condominium (Triplex)',\n",
              "       'Cluster House (Intermediate)',\n",
              "       '2-sty Terrace/Link House (Penthouse)', 'Apartment (Penthouse)',\n",
              "       '3-sty Terrace/Link House (Triplex)', 'Townhouse (Duplex)',\n",
              "       'Residential Land (EndLot)',\n",
              "       '4-sty Terrace/Link House (Penthouse)',\n",
              "       'Semi-detached House (Duplex)', 'Apartment (Studio)',\n",
              "       '4.5-sty Terrace/Link House',\n",
              "       '2.5-sty Terrace/Link House (Triplex)', 'Flat (Penthouse)',\n",
              "       '2-sty Terrace/Link House (Duplex)', 'Cluster House',\n",
              "       '2.5-sty Terrace/Link House (Duplex)', 'Apartment (Triplex)',\n",
              "       'Semi-detached House (SOHO)', 'Cluster House (Corner)',\n",
              "       '3.5-sty Terrace/Link House (EndLot)',\n",
              "       '4.5-sty Terrace/Link House (Corner)'], dtype=object)"
            ]
          },
          "metadata": {},
          "execution_count": 158
        }
      ]
    },
    {
      "cell_type": "code",
      "metadata": {
        "colab": {
          "base_uri": "https://localhost:8080/"
        },
        "id": "qMUv26vcy-NE",
        "outputId": "b49867a9-a19f-456b-cd48-60801d660e8e"
      },
      "source": [
        "df_listproperty['Property Type'].value_counts()"
      ],
      "execution_count": null,
      "outputs": [
        {
          "output_type": "execute_result",
          "data": {
            "text/plain": [
              "Condominium                               11275\n",
              "Serviced Residence                         7123\n",
              "Condominium (Corner)                       5548\n",
              "Condominium (Intermediate)                 5087\n",
              "Serviced Residence (Intermediate)          3259\n",
              "                                          ...  \n",
              "2-sty Terrace/Link House (Penthouse)          1\n",
              "3-sty Terrace/Link House (Triplex)            1\n",
              "4.5-sty Terrace/Link House (Corner)           1\n",
              "4-sty Terrace/Link House (Penthouse)          1\n",
              "2.5-sty Terrace/Link House (Penthouse)        1\n",
              "Name: Property Type, Length: 95, dtype: int64"
            ]
          },
          "metadata": {},
          "execution_count": 159
        }
      ]
    },
    {
      "cell_type": "markdown",
      "metadata": {
        "id": "D8oumicOeYOc"
      },
      "source": [
        "Pada nilai kolom Property Type, terdapat 95 jenis tiper properti yang secara garis besar dapat disimplifikasi menjadi grup yang lebih umum. Maka dilakukan grouping menggunakan string manipulation untuk mendapatkan tipe properti yang lebih umum. Untuk simplifikasi tipe properti ditetapkan beberapa tipe yaitu:\n",
        "1. Terrace/Link House\n",
        "2. Serviced Residence\n",
        "3. Condominium\n",
        "4. Semi-detached House\n",
        "5. Bungalow \n",
        "6. Apartment\n",
        "7. Townhouse\n",
        "8. Flat\n",
        "9. Residential Land \n",
        "10. Cluster House\n"
      ]
    },
    {
      "cell_type": "code",
      "metadata": {
        "id": "jXxvJmNW0VFh"
      },
      "source": [
        "#There is common type in Property Type, we generalized to smaller of group \n",
        "def simplify_property_type(prop_type):\n",
        "    group_types = [\n",
        "        \"Terrace/Link House\", \"Serviced Residence\", \"Condominium\", \n",
        "        \"Semi-detached House\", \"Bungalow\", \"Apartment\", \"Townhouse\", \n",
        "        \"Flat\", \"Residential Land\", \"Cluster House\"]\n",
        "    for group_type in group_types:\n",
        "        if re.search(group_type, prop_type, flags=re.IGNORECASE) is not None:\n",
        "            return group_type\n",
        "    \n",
        "    return prop_type\n",
        "\n",
        "df_listproperty[\"Property_Type_Grouping\"] = df_listproperty[\"Property Type\"].apply(simplify_property_type)"
      ],
      "execution_count": null,
      "outputs": []
    },
    {
      "cell_type": "code",
      "metadata": {
        "colab": {
          "base_uri": "https://localhost:8080/"
        },
        "id": "v6USlR600gnX",
        "outputId": "4a100de9-a419-4904-9328-425377bd13a7"
      },
      "source": [
        "df_listproperty['Property_Type_Grouping'].value_counts()"
      ],
      "execution_count": null,
      "outputs": [
        {
          "output_type": "execute_result",
          "data": {
            "text/plain": [
              "Condominium            22748\n",
              "Serviced Residence     13260\n",
              "Terrace/Link House      7777\n",
              "Bungalow                2115\n",
              "Semi-detached House     2109\n",
              "Apartment               1673\n",
              "Townhouse                547\n",
              "Residential Land         384\n",
              "Flat                     373\n",
              "Cluster House              9\n",
              "Name: Property_Type_Grouping, dtype: int64"
            ]
          },
          "metadata": {},
          "execution_count": 161
        }
      ]
    },
    {
      "cell_type": "markdown",
      "metadata": {
        "id": "nzChANOxgY54"
      },
      "source": [
        "**Size Column**"
      ]
    },
    {
      "cell_type": "code",
      "metadata": {
        "colab": {
          "base_uri": "https://localhost:8080/"
        },
        "id": "4LCUHUEc8arH",
        "outputId": "71ef9fe4-a298-4f14-8059-301a5f02178f"
      },
      "source": [
        "df_listproperty['Size'].value_counts()"
      ],
      "execution_count": null,
      "outputs": [
        {
          "output_type": "execute_result",
          "data": {
            "text/plain": [
              "Land area : 22x75 sq. ft.    614\n",
              "Built-up : 1,100 sq. ft.     540\n",
              "Built-up : 950 sq. ft.       495\n",
              "Built-up : 1,200 sq. ft.     380\n",
              "Built-up : 850 sq. ft.       379\n",
              "                            ... \n",
              "Land area : 1095 sq. ft.       1\n",
              "Land area : 2073 sq. ft.       1\n",
              "Built-up : 2,348 sq. ft.       1\n",
              "Land area : 31x85 sq. ft.      1\n",
              "Land area : 5243 sq. ft.       1\n",
              "Name: Size, Length: 5521, dtype: int64"
            ]
          },
          "metadata": {},
          "execution_count": 162
        }
      ]
    },
    {
      "cell_type": "markdown",
      "metadata": {
        "id": "7JuWLyULgf2R"
      },
      "source": [
        "Step pertama yang dilakukan memisahkan karakter tipe luasan properti berupa land area/ built-up menjadi kolom terpisah dengan angka luasan"
      ]
    },
    {
      "cell_type": "code",
      "metadata": {
        "id": "D0-ZVYJc1PKI"
      },
      "source": [
        "def split_size(val, index=0):\n",
        "    try:\n",
        "        return val.split(\":\")[index].strip()\n",
        "    except AttributeError:\n",
        "        return val\n",
        "    \n",
        "df_listproperty[\"Size_Type\"] = df_listproperty[\"Size\"].apply(split_size, index=0)\n",
        "df_listproperty[\"Size_Sqft\"] = df_listproperty[\"Size\"].apply(split_size, index=1)"
      ],
      "execution_count": null,
      "outputs": []
    },
    {
      "cell_type": "code",
      "metadata": {
        "colab": {
          "base_uri": "https://localhost:8080/"
        },
        "id": "xdjtYjIv8k6F",
        "outputId": "665a12c5-d6ad-43c9-cf32-f610f8b2cccd"
      },
      "source": [
        "df_listproperty['Size_Type'].value_counts()"
      ],
      "execution_count": null,
      "outputs": [
        {
          "output_type": "execute_result",
          "data": {
            "text/plain": [
              "Built-up     37064\n",
              "Land area    12932\n",
              "Name: Size_Type, dtype: int64"
            ]
          },
          "metadata": {},
          "execution_count": 164
        }
      ]
    },
    {
      "cell_type": "code",
      "metadata": {
        "colab": {
          "base_uri": "https://localhost:8080/"
        },
        "id": "EqFtGzWf8wLU",
        "outputId": "35bff118-16a7-4488-9a82-42fb1bb0034b"
      },
      "source": [
        "df_listproperty['Size_Sqft'].unique()"
      ],
      "execution_count": null,
      "outputs": [
        {
          "output_type": "execute_result",
          "data": {
            "text/plain": [
              "array(['1,335 sq. ft.', '1,875 sq. ft.', '1,513 sq. ft.', ...,\n",
              "       '1157 sq. ft.', '10250 sq. ft.', '1544 sq. ft.'], dtype=object)"
            ]
          },
          "metadata": {},
          "execution_count": 165
        }
      ]
    },
    {
      "cell_type": "code",
      "metadata": {
        "id": "II46UplN9BVj"
      },
      "source": [
        "def convert_size_num(size):\n",
        "    try:\n",
        "        if re.search(r\"sq\\.*\\s*ft\\.*\", size) is None:\n",
        "            return None\n",
        "        size = size.replace(\",\", \"\")\n",
        "        size = size.replace(\"'\", \"\")\n",
        "        size = size.replace(\"sq. ft.\", \"\")\n",
        "        size = size.replace(\"sf\", \"\")\n",
        "        size = size.strip()\n",
        "        size = size.lower()\n",
        "        #replace special character with blank so we can get just numeric number\n",
        "\n",
        "        add_mult_match = re.search(r\"(\\d+)\\s*\\+\\s*(\\d+)\\s*(?:x|\\*)\\s*(\\d+)\", size)\n",
        "        if add_mult_match is not None:\n",
        "            return int(add_mult_match.groups()[0]) + (\n",
        "                int(add_mult_match.groups()[1]) * \n",
        "                int(add_mult_match.groups()[2]))\n",
        "        \n",
        "        mult_match = re.search(r\"(\\d+)\\s*(?:x|\\*)\\s*(\\d+)\", size)\n",
        "        if mult_match is not None:\n",
        "            return int(mult_match.groups()[0]) * int(mult_match.groups()[1])\n",
        "        return int(size)\n",
        "        #calculate numeric number with operator function to get total number of area\n",
        "    except:\n",
        "        return None\n",
        "        #return NaN if data has different format which defined in formula\n",
        "\n",
        "df_listproperty[\"Size_Sqft\"] = df_listproperty[\"Size_Sqft\"].apply(convert_size_num)\n",
        "#credit to: Jan S - https://www.kaggle.com/dragonduck/property-listing-analysis/notebook"
      ],
      "execution_count": null,
      "outputs": []
    },
    {
      "cell_type": "code",
      "metadata": {
        "colab": {
          "base_uri": "https://localhost:8080/",
          "height": 609
        },
        "id": "ARossPRTDqPL",
        "outputId": "4e4b6094-7881-4e85-c0c0-dee34a9cd864"
      },
      "source": [
        "df_listproperty.boxplot(column='Size_Sqft', fontsize=10, rot=0, grid=False, figsize=(10,10))"
      ],
      "execution_count": null,
      "outputs": [
        {
          "output_type": "execute_result",
          "data": {
            "text/plain": [
              "<matplotlib.axes._subplots.AxesSubplot at 0x7fcb7179f950>"
            ]
          },
          "metadata": {},
          "execution_count": 167
        },
        {
          "output_type": "display_data",
          "data": {
            "image/png": "[encoded data removed]",
            "text/plain": [
              "<Figure size 720x720 with 1 Axes>"
            ]
          },
          "metadata": {
            "needs_background": "light"
          }
        }
      ]
    },
    {
      "cell_type": "code",
      "metadata": {
        "colab": {
          "base_uri": "https://localhost:8080/"
        },
        "id": "C6-4tA9piHjj",
        "outputId": "19063175-5663-4d05-ad16-6e4f95a60143"
      },
      "source": [
        "#Calculate IQR Stats (Size_Sqft Column)\n",
        "\n",
        "c_q1 = df_listproperty['Size_Sqft'].quantile(0.25)\n",
        "c_q3 = df_listproperty['Size_Sqft'].quantile(0.75)\n",
        "c_iqr = c_q3 - c_q1\n",
        "boxplot_c_min = c_q1 - 3 * c_iqr\n",
        "boxplot_c_max = c_q3 + 3 * c_iqr\n",
        "print('Q1: ', c_q1)\n",
        "print('Q3: ', c_q3)\n",
        "print('IQR: ', c_iqr)\n",
        "print('Min: ', boxplot_c_min)\n",
        "print('Max: ', boxplot_c_max)"
      ],
      "execution_count": null,
      "outputs": [
        {
          "output_type": "stream",
          "name": "stdout",
          "text": [
            "Q1:  1003.0\n",
            "Q3:  2115.25\n",
            "IQR:  1112.25\n",
            "Min:  -2333.75\n",
            "Max:  5452.0\n"
          ]
        }
      ]
    },
    {
      "cell_type": "code",
      "metadata": {
        "colab": {
          "base_uri": "https://localhost:8080/",
          "height": 424
        },
        "id": "hXvYx4fFiM4m",
        "outputId": "53160020-11c9-478a-c2d8-3ae411b50e98"
      },
      "source": [
        "#exclude outlier in Size_Sqft column\n",
        "df_sizeout = df_listproperty[(df_listproperty['Size_Sqft'] <= boxplot_c_min) | (df_listproperty['Size_Sqft'] > boxplot_c_max)]\n",
        "df_sizeout"
      ],
      "execution_count": null,
      "outputs": [
        {
          "output_type": "execute_result",
          "data": {
            "text/html": [
              "<div>\n",
              "<style scoped>\n",
              "    .dataframe tbody tr th:only-of-type {\n",
              "        vertical-align: middle;\n",
              "    }\n",
              "\n",
              "    .dataframe tbody tr th {\n",
              "        vertical-align: top;\n",
              "    }\n",
              "\n",
              "    .dataframe thead th {\n",
              "        text-align: right;\n",
              "    }\n",
              "</style>\n",
              "<table border=\"1\" class=\"dataframe\">\n",
              "  <thead>\n",
              "    <tr style=\"text-align: right;\">\n",
              "      <th></th>\n",
              "      <th>Location</th>\n",
              "      <th>Price</th>\n",
              "      <th>Rooms</th>\n",
              "      <th>Bathrooms</th>\n",
              "      <th>Car Parks</th>\n",
              "      <th>Property Type</th>\n",
              "      <th>Size</th>\n",
              "      <th>Furnishing</th>\n",
              "      <th>Room_Number</th>\n",
              "      <th>Property_Type_Grouping</th>\n",
              "      <th>Size_Type</th>\n",
              "      <th>Size_Sqft</th>\n",
              "    </tr>\n",
              "  </thead>\n",
              "  <tbody>\n",
              "    <tr>\n",
              "      <th>5</th>\n",
              "      <td>taman tun dr ismail, kuala lumpur</td>\n",
              "      <td>5350000</td>\n",
              "      <td>4+2</td>\n",
              "      <td>5.0</td>\n",
              "      <td>4.0</td>\n",
              "      <td>Bungalow</td>\n",
              "      <td>Land area : 7200 sq. ft.</td>\n",
              "      <td>Partly Furnished</td>\n",
              "      <td>6.0</td>\n",
              "      <td>Bungalow</td>\n",
              "      <td>Land area</td>\n",
              "      <td>7200.0</td>\n",
              "    </tr>\n",
              "    <tr>\n",
              "      <th>13</th>\n",
              "      <td>taman tun dr ismail, kuala lumpur</td>\n",
              "      <td>4580000</td>\n",
              "      <td>6+1</td>\n",
              "      <td>5.0</td>\n",
              "      <td>5.0</td>\n",
              "      <td>Bungalow (Intermediate)</td>\n",
              "      <td>Land area : 6000 sq. ft.</td>\n",
              "      <td>Partly Furnished</td>\n",
              "      <td>7.0</td>\n",
              "      <td>Bungalow</td>\n",
              "      <td>Land area</td>\n",
              "      <td>6000.0</td>\n",
              "    </tr>\n",
              "    <tr>\n",
              "      <th>96</th>\n",
              "      <td>taman tun dr ismail, kuala lumpur</td>\n",
              "      <td>4995000</td>\n",
              "      <td>5+1</td>\n",
              "      <td>7.0</td>\n",
              "      <td>6.0</td>\n",
              "      <td>Bungalow</td>\n",
              "      <td>Land area : 8113 sq. ft.</td>\n",
              "      <td>Partly Furnished</td>\n",
              "      <td>6.0</td>\n",
              "      <td>Bungalow</td>\n",
              "      <td>Land area</td>\n",
              "      <td>8113.0</td>\n",
              "    </tr>\n",
              "    <tr>\n",
              "      <th>165</th>\n",
              "      <td>desa parkcity, kuala lumpur</td>\n",
              "      <td>5600000</td>\n",
              "      <td>7+1</td>\n",
              "      <td>9.0</td>\n",
              "      <td>2.0</td>\n",
              "      <td>3.5-sty Terrace/Link House (Intermediate)</td>\n",
              "      <td>Built-up : 7,000 sq. ft.</td>\n",
              "      <td>Partly Furnished</td>\n",
              "      <td>8.0</td>\n",
              "      <td>Terrace/Link House</td>\n",
              "      <td>Built-up</td>\n",
              "      <td>7000.0</td>\n",
              "    </tr>\n",
              "    <tr>\n",
              "      <th>187</th>\n",
              "      <td>taman tun dr ismail, kuala lumpur</td>\n",
              "      <td>5350000</td>\n",
              "      <td>6</td>\n",
              "      <td>5.0</td>\n",
              "      <td>3.0</td>\n",
              "      <td>Bungalow</td>\n",
              "      <td>Land area : 7200 sq. ft.</td>\n",
              "      <td>Partly Furnished</td>\n",
              "      <td>6.0</td>\n",
              "      <td>Bungalow</td>\n",
              "      <td>Land area</td>\n",
              "      <td>7200.0</td>\n",
              "    </tr>\n",
              "    <tr>\n",
              "      <th>...</th>\n",
              "      <td>...</td>\n",
              "      <td>...</td>\n",
              "      <td>...</td>\n",
              "      <td>...</td>\n",
              "      <td>...</td>\n",
              "      <td>...</td>\n",
              "      <td>...</td>\n",
              "      <td>...</td>\n",
              "      <td>...</td>\n",
              "      <td>...</td>\n",
              "      <td>...</td>\n",
              "      <td>...</td>\n",
              "    </tr>\n",
              "    <tr>\n",
              "      <th>53830</th>\n",
              "      <td>titiwangsa, kuala lumpur</td>\n",
              "      <td>2600000</td>\n",
              "      <td>5+1</td>\n",
              "      <td>5.0</td>\n",
              "      <td>4.0</td>\n",
              "      <td>Bungalow (Corner)</td>\n",
              "      <td>Land area : 6050 sq. ft.</td>\n",
              "      <td>Partly Furnished</td>\n",
              "      <td>6.0</td>\n",
              "      <td>Bungalow</td>\n",
              "      <td>Land area</td>\n",
              "      <td>6050.0</td>\n",
              "    </tr>\n",
              "    <tr>\n",
              "      <th>53861</th>\n",
              "      <td>seputeh, kuala lumpur</td>\n",
              "      <td>4100000</td>\n",
              "      <td>NaN</td>\n",
              "      <td>2.0</td>\n",
              "      <td>2.0</td>\n",
              "      <td>Residential Land (Corner)</td>\n",
              "      <td>Land area : 10250 sq. ft.</td>\n",
              "      <td>NaN</td>\n",
              "      <td>3.0</td>\n",
              "      <td>Residential Land</td>\n",
              "      <td>Land area</td>\n",
              "      <td>10250.0</td>\n",
              "    </tr>\n",
              "    <tr>\n",
              "      <th>53878</th>\n",
              "      <td>bangsar, kuala lumpur</td>\n",
              "      <td>5100000</td>\n",
              "      <td>5+1</td>\n",
              "      <td>4.0</td>\n",
              "      <td>2.0</td>\n",
              "      <td>Bungalow (Corner)</td>\n",
              "      <td>Land area : 7168 sq. ft.</td>\n",
              "      <td>Fully Furnished</td>\n",
              "      <td>6.0</td>\n",
              "      <td>Bungalow</td>\n",
              "      <td>Land area</td>\n",
              "      <td>7168.0</td>\n",
              "    </tr>\n",
              "    <tr>\n",
              "      <th>53879</th>\n",
              "      <td>bangsar, kuala lumpur</td>\n",
              "      <td>5000000</td>\n",
              "      <td>5</td>\n",
              "      <td>4.0</td>\n",
              "      <td>2.0</td>\n",
              "      <td>Bungalow (Intermediate)</td>\n",
              "      <td>Land area : 15000 sq. ft.</td>\n",
              "      <td>Unfurnished</td>\n",
              "      <td>5.0</td>\n",
              "      <td>Bungalow</td>\n",
              "      <td>Land area</td>\n",
              "      <td>15000.0</td>\n",
              "    </tr>\n",
              "    <tr>\n",
              "      <th>53880</th>\n",
              "      <td>bangsar, kuala lumpur</td>\n",
              "      <td>5500000</td>\n",
              "      <td>5+1</td>\n",
              "      <td>4.0</td>\n",
              "      <td>2.0</td>\n",
              "      <td>Bungalow (Intermediate)</td>\n",
              "      <td>Land area : 7168 sq. ft.</td>\n",
              "      <td>Partly Furnished</td>\n",
              "      <td>6.0</td>\n",
              "      <td>Bungalow</td>\n",
              "      <td>Land area</td>\n",
              "      <td>7168.0</td>\n",
              "    </tr>\n",
              "  </tbody>\n",
              "</table>\n",
              "<p>2235 rows × 12 columns</p>\n",
              "</div>"
            ],
            "text/plain": [
              "                                Location    Price  ...  Size_Type  Size_Sqft\n",
              "5      taman tun dr ismail, kuala lumpur  5350000  ...  Land area     7200.0\n",
              "13     taman tun dr ismail, kuala lumpur  4580000  ...  Land area     6000.0\n",
              "96     taman tun dr ismail, kuala lumpur  4995000  ...  Land area     8113.0\n",
              "165          desa parkcity, kuala lumpur  5600000  ...   Built-up     7000.0\n",
              "187    taman tun dr ismail, kuala lumpur  5350000  ...  Land area     7200.0\n",
              "...                                  ...      ...  ...        ...        ...\n",
              "53830           titiwangsa, kuala lumpur  2600000  ...  Land area     6050.0\n",
              "53861              seputeh, kuala lumpur  4100000  ...  Land area    10250.0\n",
              "53878              bangsar, kuala lumpur  5100000  ...  Land area     7168.0\n",
              "53879              bangsar, kuala lumpur  5000000  ...  Land area    15000.0\n",
              "53880              bangsar, kuala lumpur  5500000  ...  Land area     7168.0\n",
              "\n",
              "[2235 rows x 12 columns]"
            ]
          },
          "metadata": {},
          "execution_count": 169
        }
      ]
    },
    {
      "cell_type": "code",
      "metadata": {
        "colab": {
          "base_uri": "https://localhost:8080/",
          "height": 424
        },
        "id": "DquY4HlBi_Ep",
        "outputId": "c96b8902-8960-440e-8b18-5b76e1b82787"
      },
      "source": [
        "df_listproperty[df_listproperty['Size_Sqft'].isnull()]"
      ],
      "execution_count": null,
      "outputs": [
        {
          "output_type": "execute_result",
          "data": {
            "text/html": [
              "<div>\n",
              "<style scoped>\n",
              "    .dataframe tbody tr th:only-of-type {\n",
              "        vertical-align: middle;\n",
              "    }\n",
              "\n",
              "    .dataframe tbody tr th {\n",
              "        vertical-align: top;\n",
              "    }\n",
              "\n",
              "    .dataframe thead th {\n",
              "        text-align: right;\n",
              "    }\n",
              "</style>\n",
              "<table border=\"1\" class=\"dataframe\">\n",
              "  <thead>\n",
              "    <tr style=\"text-align: right;\">\n",
              "      <th></th>\n",
              "      <th>Location</th>\n",
              "      <th>Price</th>\n",
              "      <th>Rooms</th>\n",
              "      <th>Bathrooms</th>\n",
              "      <th>Car Parks</th>\n",
              "      <th>Property Type</th>\n",
              "      <th>Size</th>\n",
              "      <th>Furnishing</th>\n",
              "      <th>Room_Number</th>\n",
              "      <th>Property_Type_Grouping</th>\n",
              "      <th>Size_Type</th>\n",
              "      <th>Size_Sqft</th>\n",
              "    </tr>\n",
              "  </thead>\n",
              "  <tbody>\n",
              "    <tr>\n",
              "      <th>220</th>\n",
              "      <td>batu caves, kuala lumpur</td>\n",
              "      <td>468000</td>\n",
              "      <td>3</td>\n",
              "      <td>2.0</td>\n",
              "      <td>2.0</td>\n",
              "      <td>Serviced Residence</td>\n",
              "      <td>NaN</td>\n",
              "      <td>Partly Furnished</td>\n",
              "      <td>3.0</td>\n",
              "      <td>Serviced Residence</td>\n",
              "      <td>NaN</td>\n",
              "      <td>NaN</td>\n",
              "    </tr>\n",
              "    <tr>\n",
              "      <th>239</th>\n",
              "      <td>wangsa maju, kuala lumpur</td>\n",
              "      <td>350000</td>\n",
              "      <td>3</td>\n",
              "      <td>2.0</td>\n",
              "      <td>2.0</td>\n",
              "      <td>Serviced Residence</td>\n",
              "      <td>NaN</td>\n",
              "      <td>Partly Furnished</td>\n",
              "      <td>3.0</td>\n",
              "      <td>Serviced Residence</td>\n",
              "      <td>NaN</td>\n",
              "      <td>NaN</td>\n",
              "    </tr>\n",
              "    <tr>\n",
              "      <th>288</th>\n",
              "      <td>klcc, kuala lumpur</td>\n",
              "      <td>1158200</td>\n",
              "      <td>1</td>\n",
              "      <td>1.0</td>\n",
              "      <td>1.0</td>\n",
              "      <td>Condominium (Intermediate)</td>\n",
              "      <td>NaN</td>\n",
              "      <td>Partly Furnished</td>\n",
              "      <td>1.0</td>\n",
              "      <td>Condominium</td>\n",
              "      <td>NaN</td>\n",
              "      <td>NaN</td>\n",
              "    </tr>\n",
              "    <tr>\n",
              "      <th>304</th>\n",
              "      <td>klcc, kuala lumpur</td>\n",
              "      <td>1420000</td>\n",
              "      <td>2</td>\n",
              "      <td>2.0</td>\n",
              "      <td>1.0</td>\n",
              "      <td>Condominium</td>\n",
              "      <td>NaN</td>\n",
              "      <td>NaN</td>\n",
              "      <td>2.0</td>\n",
              "      <td>Condominium</td>\n",
              "      <td>NaN</td>\n",
              "      <td>NaN</td>\n",
              "    </tr>\n",
              "    <tr>\n",
              "      <th>348</th>\n",
              "      <td>ampang, kuala lumpur</td>\n",
              "      <td>560000</td>\n",
              "      <td>1</td>\n",
              "      <td>1.0</td>\n",
              "      <td>1.0</td>\n",
              "      <td>Serviced Residence</td>\n",
              "      <td>NaN</td>\n",
              "      <td>Partly Furnished</td>\n",
              "      <td>1.0</td>\n",
              "      <td>Serviced Residence</td>\n",
              "      <td>NaN</td>\n",
              "      <td>NaN</td>\n",
              "    </tr>\n",
              "    <tr>\n",
              "      <th>...</th>\n",
              "      <td>...</td>\n",
              "      <td>...</td>\n",
              "      <td>...</td>\n",
              "      <td>...</td>\n",
              "      <td>...</td>\n",
              "      <td>...</td>\n",
              "      <td>...</td>\n",
              "      <td>...</td>\n",
              "      <td>...</td>\n",
              "      <td>...</td>\n",
              "      <td>...</td>\n",
              "      <td>...</td>\n",
              "    </tr>\n",
              "    <tr>\n",
              "      <th>53662</th>\n",
              "      <td>bukit jalil, kuala lumpur</td>\n",
              "      <td>1050000</td>\n",
              "      <td>3</td>\n",
              "      <td>3.0</td>\n",
              "      <td>2.0</td>\n",
              "      <td>Condominium (Corner)</td>\n",
              "      <td>Built-up : 1,301 sq. m.</td>\n",
              "      <td>Partly Furnished</td>\n",
              "      <td>3.0</td>\n",
              "      <td>Condominium</td>\n",
              "      <td>Built-up</td>\n",
              "      <td>NaN</td>\n",
              "    </tr>\n",
              "    <tr>\n",
              "      <th>53673</th>\n",
              "      <td>sri hartamas, kuala lumpur</td>\n",
              "      <td>3700000</td>\n",
              "      <td>4+1</td>\n",
              "      <td>5.0</td>\n",
              "      <td>3.0</td>\n",
              "      <td>Condominium (Corner)</td>\n",
              "      <td>NaN</td>\n",
              "      <td>Partly Furnished</td>\n",
              "      <td>5.0</td>\n",
              "      <td>Condominium</td>\n",
              "      <td>NaN</td>\n",
              "      <td>NaN</td>\n",
              "    </tr>\n",
              "    <tr>\n",
              "      <th>53825</th>\n",
              "      <td>ampang, kuala lumpur</td>\n",
              "      <td>2290000</td>\n",
              "      <td>5+1</td>\n",
              "      <td>6.0</td>\n",
              "      <td>2.0</td>\n",
              "      <td>Bungalow (Intermediate)</td>\n",
              "      <td>Land area : 1 acre sq. ft.</td>\n",
              "      <td>Unfurnished</td>\n",
              "      <td>6.0</td>\n",
              "      <td>Bungalow</td>\n",
              "      <td>Land area</td>\n",
              "      <td>NaN</td>\n",
              "    </tr>\n",
              "    <tr>\n",
              "      <th>53870</th>\n",
              "      <td>damansara heights, kuala lumpur</td>\n",
              "      <td>3500000</td>\n",
              "      <td>NaN</td>\n",
              "      <td>2.0</td>\n",
              "      <td>2.0</td>\n",
              "      <td>Bungalow</td>\n",
              "      <td>NaN</td>\n",
              "      <td>NaN</td>\n",
              "      <td>3.0</td>\n",
              "      <td>Bungalow</td>\n",
              "      <td>NaN</td>\n",
              "      <td>NaN</td>\n",
              "    </tr>\n",
              "    <tr>\n",
              "      <th>53871</th>\n",
              "      <td>damansara heights, kuala lumpur</td>\n",
              "      <td>1230000</td>\n",
              "      <td>NaN</td>\n",
              "      <td>2.0</td>\n",
              "      <td>2.0</td>\n",
              "      <td>Bungalow</td>\n",
              "      <td>NaN</td>\n",
              "      <td>NaN</td>\n",
              "      <td>3.0</td>\n",
              "      <td>Bungalow</td>\n",
              "      <td>NaN</td>\n",
              "      <td>NaN</td>\n",
              "    </tr>\n",
              "  </tbody>\n",
              "</table>\n",
              "<p>1243 rows × 12 columns</p>\n",
              "</div>"
            ],
            "text/plain": [
              "                              Location    Price  ...  Size_Type  Size_Sqft\n",
              "220           batu caves, kuala lumpur   468000  ...        NaN        NaN\n",
              "239          wangsa maju, kuala lumpur   350000  ...        NaN        NaN\n",
              "288                 klcc, kuala lumpur  1158200  ...        NaN        NaN\n",
              "304                 klcc, kuala lumpur  1420000  ...        NaN        NaN\n",
              "348               ampang, kuala lumpur   560000  ...        NaN        NaN\n",
              "...                                ...      ...  ...        ...        ...\n",
              "53662        bukit jalil, kuala lumpur  1050000  ...   Built-up        NaN\n",
              "53673       sri hartamas, kuala lumpur  3700000  ...        NaN        NaN\n",
              "53825             ampang, kuala lumpur  2290000  ...  Land area        NaN\n",
              "53870  damansara heights, kuala lumpur  3500000  ...        NaN        NaN\n",
              "53871  damansara heights, kuala lumpur  1230000  ...        NaN        NaN\n",
              "\n",
              "[1243 rows x 12 columns]"
            ]
          },
          "metadata": {},
          "execution_count": 170
        }
      ]
    },
    {
      "cell_type": "code",
      "metadata": {
        "colab": {
          "base_uri": "https://localhost:8080/"
        },
        "id": "7ctJr2to_OdN",
        "outputId": "950bea2f-0431-41ea-8df3-3f455b912801"
      },
      "source": [
        "df_listproperty.info()"
      ],
      "execution_count": null,
      "outputs": [
        {
          "output_type": "stream",
          "name": "stdout",
          "text": [
            "<class 'pandas.core.frame.DataFrame'>\n",
            "Int64Index: 50995 entries, 0 to 53882\n",
            "Data columns (total 12 columns):\n",
            " #   Column                  Non-Null Count  Dtype  \n",
            "---  ------                  --------------  -----  \n",
            " 0   Location                50995 non-null  object \n",
            " 1   Price                   50995 non-null  int64  \n",
            " 2   Rooms                   49842 non-null  object \n",
            " 3   Bathrooms               50995 non-null  float64\n",
            " 4   Car Parks               50995 non-null  float64\n",
            " 5   Property Type           50995 non-null  object \n",
            " 6   Size                    49996 non-null  object \n",
            " 7   Furnishing              44739 non-null  object \n",
            " 8   Room_Number             50995 non-null  float64\n",
            " 9   Property_Type_Grouping  50995 non-null  object \n",
            " 10  Size_Type               49996 non-null  object \n",
            " 11  Size_Sqft               49752 non-null  float64\n",
            "dtypes: float64(4), int64(1), object(7)\n",
            "memory usage: 5.1+ MB\n"
          ]
        }
      ]
    },
    {
      "cell_type": "markdown",
      "metadata": {
        "id": "O6_88WebkIQS"
      },
      "source": [
        "Setelah dilakukan pengecekan statistika deskriptif pada kolom Size, masih banyak ditemukan nilai outlier dan nilai Null sehingga diputuskan untuk sementara kolom ini akan dikeluarkan dari analisis korelasi selanjutnya."
      ]
    },
    {
      "cell_type": "code",
      "metadata": {
        "id": "wnZCTgzu_uLl"
      },
      "source": [
        "#remove irrelevant values\n",
        "df_listproperty.drop('Rooms', axis=1,inplace=True)\n",
        "df_listproperty.drop('Size', axis=1,inplace=True)\n",
        "df_listproperty.drop('Property Type', axis=1,inplace=True)"
      ],
      "execution_count": null,
      "outputs": []
    },
    {
      "cell_type": "code",
      "metadata": {
        "colab": {
          "base_uri": "https://localhost:8080/",
          "height": 206
        },
        "id": "z9LJe5TJktNC",
        "outputId": "25d327fe-8024-4782-f957-300e036bd3b5"
      },
      "source": [
        "df_listproperty.head()"
      ],
      "execution_count": null,
      "outputs": [
        {
          "output_type": "execute_result",
          "data": {
            "text/html": [
              "<div>\n",
              "<style scoped>\n",
              "    .dataframe tbody tr th:only-of-type {\n",
              "        vertical-align: middle;\n",
              "    }\n",
              "\n",
              "    .dataframe tbody tr th {\n",
              "        vertical-align: top;\n",
              "    }\n",
              "\n",
              "    .dataframe thead th {\n",
              "        text-align: right;\n",
              "    }\n",
              "</style>\n",
              "<table border=\"1\" class=\"dataframe\">\n",
              "  <thead>\n",
              "    <tr style=\"text-align: right;\">\n",
              "      <th></th>\n",
              "      <th>Location</th>\n",
              "      <th>Price</th>\n",
              "      <th>Bathrooms</th>\n",
              "      <th>Car Parks</th>\n",
              "      <th>Furnishing</th>\n",
              "      <th>Room_Number</th>\n",
              "      <th>Property_Type_Grouping</th>\n",
              "      <th>Size_Type</th>\n",
              "      <th>Size_Sqft</th>\n",
              "    </tr>\n",
              "  </thead>\n",
              "  <tbody>\n",
              "    <tr>\n",
              "      <th>0</th>\n",
              "      <td>klcc, kuala lumpur</td>\n",
              "      <td>1250000</td>\n",
              "      <td>3.0</td>\n",
              "      <td>2.0</td>\n",
              "      <td>Fully Furnished</td>\n",
              "      <td>3.0</td>\n",
              "      <td>Serviced Residence</td>\n",
              "      <td>Built-up</td>\n",
              "      <td>1335.0</td>\n",
              "    </tr>\n",
              "    <tr>\n",
              "      <th>2</th>\n",
              "      <td>dutamas, kuala lumpur</td>\n",
              "      <td>1030000</td>\n",
              "      <td>4.0</td>\n",
              "      <td>2.0</td>\n",
              "      <td>Partly Furnished</td>\n",
              "      <td>3.0</td>\n",
              "      <td>Condominium</td>\n",
              "      <td>Built-up</td>\n",
              "      <td>1875.0</td>\n",
              "    </tr>\n",
              "    <tr>\n",
              "      <th>4</th>\n",
              "      <td>bukit jalil, kuala lumpur</td>\n",
              "      <td>900000</td>\n",
              "      <td>3.0</td>\n",
              "      <td>2.0</td>\n",
              "      <td>Partly Furnished</td>\n",
              "      <td>5.0</td>\n",
              "      <td>Condominium</td>\n",
              "      <td>Built-up</td>\n",
              "      <td>1513.0</td>\n",
              "    </tr>\n",
              "    <tr>\n",
              "      <th>5</th>\n",
              "      <td>taman tun dr ismail, kuala lumpur</td>\n",
              "      <td>5350000</td>\n",
              "      <td>5.0</td>\n",
              "      <td>4.0</td>\n",
              "      <td>Partly Furnished</td>\n",
              "      <td>6.0</td>\n",
              "      <td>Bungalow</td>\n",
              "      <td>Land area</td>\n",
              "      <td>7200.0</td>\n",
              "    </tr>\n",
              "    <tr>\n",
              "      <th>7</th>\n",
              "      <td>taman tun dr ismail, kuala lumpur</td>\n",
              "      <td>2600000</td>\n",
              "      <td>4.0</td>\n",
              "      <td>4.0</td>\n",
              "      <td>Partly Furnished</td>\n",
              "      <td>5.0</td>\n",
              "      <td>Semi-detached House</td>\n",
              "      <td>Land area</td>\n",
              "      <td>3600.0</td>\n",
              "    </tr>\n",
              "  </tbody>\n",
              "</table>\n",
              "</div>"
            ],
            "text/plain": [
              "                            Location    Price  ...  Size_Type  Size_Sqft\n",
              "0                 klcc, kuala lumpur  1250000  ...   Built-up     1335.0\n",
              "2              dutamas, kuala lumpur  1030000  ...   Built-up     1875.0\n",
              "4          bukit jalil, kuala lumpur   900000  ...   Built-up     1513.0\n",
              "5  taman tun dr ismail, kuala lumpur  5350000  ...  Land area     7200.0\n",
              "7  taman tun dr ismail, kuala lumpur  2600000  ...  Land area     3600.0\n",
              "\n",
              "[5 rows x 9 columns]"
            ]
          },
          "metadata": {},
          "execution_count": 173
        }
      ]
    },
    {
      "cell_type": "code",
      "metadata": {
        "colab": {
          "base_uri": "https://localhost:8080/"
        },
        "id": "kWnLqWTa_7j-",
        "outputId": "220492b5-fb48-46cc-f475-9aac8e5de788"
      },
      "source": [
        "df_listproperty.info()"
      ],
      "execution_count": null,
      "outputs": [
        {
          "output_type": "stream",
          "name": "stdout",
          "text": [
            "<class 'pandas.core.frame.DataFrame'>\n",
            "Int64Index: 50995 entries, 0 to 53882\n",
            "Data columns (total 9 columns):\n",
            " #   Column                  Non-Null Count  Dtype  \n",
            "---  ------                  --------------  -----  \n",
            " 0   Location                50995 non-null  object \n",
            " 1   Price                   50995 non-null  int64  \n",
            " 2   Bathrooms               50995 non-null  float64\n",
            " 3   Car Parks               50995 non-null  float64\n",
            " 4   Furnishing              44739 non-null  object \n",
            " 5   Room_Number             50995 non-null  float64\n",
            " 6   Property_Type_Grouping  50995 non-null  object \n",
            " 7   Size_Type               49996 non-null  object \n",
            " 8   Size_Sqft               49752 non-null  float64\n",
            "dtypes: float64(4), int64(1), object(4)\n",
            "memory usage: 3.9+ MB\n"
          ]
        }
      ]
    },
    {
      "cell_type": "markdown",
      "metadata": {
        "id": "Hy552uRaBtDK"
      },
      "source": [
        "# **EXPLORATORY DATA ANALYSIS**"
      ]
    },
    {
      "cell_type": "code",
      "metadata": {
        "colab": {
          "base_uri": "https://localhost:8080/",
          "height": 300
        },
        "id": "RdSdDaqrABej",
        "outputId": "6489a565-63d2-478c-caf4-d4f73b9b0e8e"
      },
      "source": [
        "df_listproperty[['Price','Room_Number','Bathrooms', 'Car Parks']].describe()"
      ],
      "execution_count": null,
      "outputs": [
        {
          "output_type": "execute_result",
          "data": {
            "text/html": [
              "<div>\n",
              "<style scoped>\n",
              "    .dataframe tbody tr th:only-of-type {\n",
              "        vertical-align: middle;\n",
              "    }\n",
              "\n",
              "    .dataframe tbody tr th {\n",
              "        vertical-align: top;\n",
              "    }\n",
              "\n",
              "    .dataframe thead th {\n",
              "        text-align: right;\n",
              "    }\n",
              "</style>\n",
              "<table border=\"1\" class=\"dataframe\">\n",
              "  <thead>\n",
              "    <tr style=\"text-align: right;\">\n",
              "      <th></th>\n",
              "      <th>Price</th>\n",
              "      <th>Room_Number</th>\n",
              "      <th>Bathrooms</th>\n",
              "      <th>Car Parks</th>\n",
              "    </tr>\n",
              "  </thead>\n",
              "  <tbody>\n",
              "    <tr>\n",
              "      <th>count</th>\n",
              "      <td>5.099500e+04</td>\n",
              "      <td>50995.000000</td>\n",
              "      <td>50995.000000</td>\n",
              "      <td>50995.000000</td>\n",
              "    </tr>\n",
              "    <tr>\n",
              "      <th>mean</th>\n",
              "      <td>1.380952e+06</td>\n",
              "      <td>3.555015</td>\n",
              "      <td>2.908932</td>\n",
              "      <td>1.937288</td>\n",
              "    </tr>\n",
              "    <tr>\n",
              "      <th>std</th>\n",
              "      <td>1.188005e+06</td>\n",
              "      <td>1.381260</td>\n",
              "      <td>1.457622</td>\n",
              "      <td>0.895416</td>\n",
              "    </tr>\n",
              "    <tr>\n",
              "      <th>min</th>\n",
              "      <td>1.000000e+01</td>\n",
              "      <td>1.000000</td>\n",
              "      <td>1.000000</td>\n",
              "      <td>1.000000</td>\n",
              "    </tr>\n",
              "    <tr>\n",
              "      <th>25%</th>\n",
              "      <td>5.680000e+05</td>\n",
              "      <td>3.000000</td>\n",
              "      <td>2.000000</td>\n",
              "      <td>1.000000</td>\n",
              "    </tr>\n",
              "    <tr>\n",
              "      <th>50%</th>\n",
              "      <td>9.300000e+05</td>\n",
              "      <td>3.000000</td>\n",
              "      <td>2.000000</td>\n",
              "      <td>2.000000</td>\n",
              "    </tr>\n",
              "    <tr>\n",
              "      <th>75%</th>\n",
              "      <td>1.750000e+06</td>\n",
              "      <td>4.000000</td>\n",
              "      <td>4.000000</td>\n",
              "      <td>2.000000</td>\n",
              "    </tr>\n",
              "    <tr>\n",
              "      <th>max</th>\n",
              "      <td>6.220000e+06</td>\n",
              "      <td>20.000000</td>\n",
              "      <td>20.000000</td>\n",
              "      <td>30.000000</td>\n",
              "    </tr>\n",
              "  </tbody>\n",
              "</table>\n",
              "</div>"
            ],
            "text/plain": [
              "              Price   Room_Number     Bathrooms     Car Parks\n",
              "count  5.099500e+04  50995.000000  50995.000000  50995.000000\n",
              "mean   1.380952e+06      3.555015      2.908932      1.937288\n",
              "std    1.188005e+06      1.381260      1.457622      0.895416\n",
              "min    1.000000e+01      1.000000      1.000000      1.000000\n",
              "25%    5.680000e+05      3.000000      2.000000      1.000000\n",
              "50%    9.300000e+05      3.000000      2.000000      2.000000\n",
              "75%    1.750000e+06      4.000000      4.000000      2.000000\n",
              "max    6.220000e+06     20.000000     20.000000     30.000000"
            ]
          },
          "metadata": {},
          "execution_count": 175
        }
      ]
    },
    {
      "cell_type": "markdown",
      "metadata": {
        "id": "Pel72VakpU69"
      },
      "source": [
        "**Data Distribution**"
      ]
    },
    {
      "cell_type": "code",
      "metadata": {
        "colab": {
          "base_uri": "https://localhost:8080/",
          "height": 803
        },
        "id": "KPMSXnPxOjhC",
        "outputId": "13f213f7-af55-4dea-efaf-71beaa87d933"
      },
      "source": [
        "df_listproperty[['Price', 'Room_Number', 'Bathrooms', 'Car Parks']].hist(figsize=(10,12))"
      ],
      "execution_count": null,
      "outputs": [
        {
          "output_type": "execute_result",
          "data": {
            "text/plain": [
              "array([[<matplotlib.axes._subplots.AxesSubplot object at 0x7fcb7179d0d0>,\n",
              "        <matplotlib.axes._subplots.AxesSubplot object at 0x7fcb77aabfd0>],\n",
              "       [<matplotlib.axes._subplots.AxesSubplot object at 0x7fcb77ab06d0>,\n",
              "        <matplotlib.axes._subplots.AxesSubplot object at 0x7fcb77aa6d50>]],\n",
              "      dtype=object)"
            ]
          },
          "metadata": {},
          "execution_count": 176
        },
        {
          "output_type": "display_data",
          "data": {
            "image/png": "[encoded data removed]",
            "text/plain": [
              "<Figure size 720x864 with 4 Axes>"
            ]
          },
          "metadata": {
            "needs_background": "light"
          }
        }
      ]
    },
    {
      "cell_type": "markdown",
      "metadata": {
        "id": "SS9cl5SEK9Hr"
      },
      "source": [
        "**Findings**:\n",
        "\n",
        "From histogram visualization and Descriptive Statistics, we know the distribution Price, Room_Number, Bathrooms, and Car Parks is long tail and skewed. But we can generalize Property in Kuala Lumpur mostly has \n",
        "1. Price range between RM 580.000 to RM 1.996.400\n",
        "2. Room Number range between 3 to 4\n",
        "3. Bathroom Number range between  2 to 4\n",
        "4. Car Park Number range between 1 to 2"
      ]
    },
    {
      "cell_type": "code",
      "metadata": {
        "colab": {
          "base_uri": "https://localhost:8080/",
          "height": 455
        },
        "id": "8nnVPj6TdXM_",
        "outputId": "12d5c128-de9c-444c-a9b3-3407c4703d1f"
      },
      "source": [
        "pd.crosstab(df_listproperty['Location'], df_listproperty['Room_Number'])"
      ],
      "execution_count": null,
      "outputs": [
        {
          "output_type": "execute_result",
          "data": {
            "text/html": [
              "<div>\n",
              "<style scoped>\n",
              "    .dataframe tbody tr th:only-of-type {\n",
              "        vertical-align: middle;\n",
              "    }\n",
              "\n",
              "    .dataframe tbody tr th {\n",
              "        vertical-align: top;\n",
              "    }\n",
              "\n",
              "    .dataframe thead th {\n",
              "        text-align: right;\n",
              "    }\n",
              "</style>\n",
              "<table border=\"1\" class=\"dataframe\">\n",
              "  <thead>\n",
              "    <tr style=\"text-align: right;\">\n",
              "      <th>Room_Number</th>\n",
              "      <th>1.0</th>\n",
              "      <th>2.0</th>\n",
              "      <th>3.0</th>\n",
              "      <th>4.0</th>\n",
              "      <th>5.0</th>\n",
              "      <th>6.0</th>\n",
              "      <th>7.0</th>\n",
              "      <th>8.0</th>\n",
              "      <th>9.0</th>\n",
              "      <th>10.0</th>\n",
              "      <th>11.0</th>\n",
              "      <th>12.0</th>\n",
              "      <th>18.0</th>\n",
              "      <th>20.0</th>\n",
              "    </tr>\n",
              "    <tr>\n",
              "      <th>Location</th>\n",
              "      <th></th>\n",
              "      <th></th>\n",
              "      <th></th>\n",
              "      <th></th>\n",
              "      <th></th>\n",
              "      <th></th>\n",
              "      <th></th>\n",
              "      <th></th>\n",
              "      <th></th>\n",
              "      <th></th>\n",
              "      <th></th>\n",
              "      <th></th>\n",
              "      <th></th>\n",
              "      <th></th>\n",
              "    </tr>\n",
              "  </thead>\n",
              "  <tbody>\n",
              "    <tr>\n",
              "      <th>adiva desa parkcity, kuala lumpur</th>\n",
              "      <td>0</td>\n",
              "      <td>0</td>\n",
              "      <td>0</td>\n",
              "      <td>1</td>\n",
              "      <td>1</td>\n",
              "      <td>0</td>\n",
              "      <td>0</td>\n",
              "      <td>0</td>\n",
              "      <td>0</td>\n",
              "      <td>0</td>\n",
              "      <td>0</td>\n",
              "      <td>0</td>\n",
              "      <td>0</td>\n",
              "      <td>0</td>\n",
              "    </tr>\n",
              "    <tr>\n",
              "      <th>alam damai, kuala lumpur</th>\n",
              "      <td>0</td>\n",
              "      <td>0</td>\n",
              "      <td>0</td>\n",
              "      <td>1</td>\n",
              "      <td>0</td>\n",
              "      <td>0</td>\n",
              "      <td>0</td>\n",
              "      <td>0</td>\n",
              "      <td>0</td>\n",
              "      <td>0</td>\n",
              "      <td>0</td>\n",
              "      <td>0</td>\n",
              "      <td>0</td>\n",
              "      <td>0</td>\n",
              "    </tr>\n",
              "    <tr>\n",
              "      <th>ampang hilir, kuala lumpur</th>\n",
              "      <td>72</td>\n",
              "      <td>60</td>\n",
              "      <td>57</td>\n",
              "      <td>145</td>\n",
              "      <td>155</td>\n",
              "      <td>21</td>\n",
              "      <td>9</td>\n",
              "      <td>3</td>\n",
              "      <td>0</td>\n",
              "      <td>0</td>\n",
              "      <td>0</td>\n",
              "      <td>0</td>\n",
              "      <td>0</td>\n",
              "      <td>0</td>\n",
              "    </tr>\n",
              "    <tr>\n",
              "      <th>ampang, kuala lumpur</th>\n",
              "      <td>189</td>\n",
              "      <td>191</td>\n",
              "      <td>226</td>\n",
              "      <td>232</td>\n",
              "      <td>127</td>\n",
              "      <td>109</td>\n",
              "      <td>82</td>\n",
              "      <td>17</td>\n",
              "      <td>3</td>\n",
              "      <td>1</td>\n",
              "      <td>0</td>\n",
              "      <td>0</td>\n",
              "      <td>0</td>\n",
              "      <td>0</td>\n",
              "    </tr>\n",
              "    <tr>\n",
              "      <th>bandar damai perdana, kuala lumpur</th>\n",
              "      <td>0</td>\n",
              "      <td>0</td>\n",
              "      <td>17</td>\n",
              "      <td>85</td>\n",
              "      <td>38</td>\n",
              "      <td>6</td>\n",
              "      <td>6</td>\n",
              "      <td>0</td>\n",
              "      <td>0</td>\n",
              "      <td>0</td>\n",
              "      <td>0</td>\n",
              "      <td>0</td>\n",
              "      <td>0</td>\n",
              "      <td>0</td>\n",
              "    </tr>\n",
              "    <tr>\n",
              "      <th>...</th>\n",
              "      <td>...</td>\n",
              "      <td>...</td>\n",
              "      <td>...</td>\n",
              "      <td>...</td>\n",
              "      <td>...</td>\n",
              "      <td>...</td>\n",
              "      <td>...</td>\n",
              "      <td>...</td>\n",
              "      <td>...</td>\n",
              "      <td>...</td>\n",
              "      <td>...</td>\n",
              "      <td>...</td>\n",
              "      <td>...</td>\n",
              "      <td>...</td>\n",
              "    </tr>\n",
              "    <tr>\n",
              "      <th>taming jaya, kuala lumpur</th>\n",
              "      <td>0</td>\n",
              "      <td>0</td>\n",
              "      <td>0</td>\n",
              "      <td>0</td>\n",
              "      <td>1</td>\n",
              "      <td>0</td>\n",
              "      <td>0</td>\n",
              "      <td>0</td>\n",
              "      <td>0</td>\n",
              "      <td>0</td>\n",
              "      <td>0</td>\n",
              "      <td>0</td>\n",
              "      <td>0</td>\n",
              "      <td>0</td>\n",
              "    </tr>\n",
              "    <tr>\n",
              "      <th>titiwangsa, kuala lumpur</th>\n",
              "      <td>5</td>\n",
              "      <td>11</td>\n",
              "      <td>92</td>\n",
              "      <td>4</td>\n",
              "      <td>20</td>\n",
              "      <td>11</td>\n",
              "      <td>4</td>\n",
              "      <td>0</td>\n",
              "      <td>2</td>\n",
              "      <td>0</td>\n",
              "      <td>0</td>\n",
              "      <td>0</td>\n",
              "      <td>0</td>\n",
              "      <td>0</td>\n",
              "    </tr>\n",
              "    <tr>\n",
              "      <th>ukay heights, kuala lumpur</th>\n",
              "      <td>0</td>\n",
              "      <td>0</td>\n",
              "      <td>0</td>\n",
              "      <td>0</td>\n",
              "      <td>0</td>\n",
              "      <td>0</td>\n",
              "      <td>1</td>\n",
              "      <td>0</td>\n",
              "      <td>0</td>\n",
              "      <td>0</td>\n",
              "      <td>0</td>\n",
              "      <td>0</td>\n",
              "      <td>0</td>\n",
              "      <td>0</td>\n",
              "    </tr>\n",
              "    <tr>\n",
              "      <th>wangsa maju, kuala lumpur</th>\n",
              "      <td>6</td>\n",
              "      <td>138</td>\n",
              "      <td>377</td>\n",
              "      <td>310</td>\n",
              "      <td>64</td>\n",
              "      <td>40</td>\n",
              "      <td>15</td>\n",
              "      <td>13</td>\n",
              "      <td>3</td>\n",
              "      <td>0</td>\n",
              "      <td>0</td>\n",
              "      <td>0</td>\n",
              "      <td>0</td>\n",
              "      <td>0</td>\n",
              "    </tr>\n",
              "    <tr>\n",
              "      <th>wangsa melawati, kuala lumpur</th>\n",
              "      <td>0</td>\n",
              "      <td>0</td>\n",
              "      <td>0</td>\n",
              "      <td>1</td>\n",
              "      <td>0</td>\n",
              "      <td>0</td>\n",
              "      <td>0</td>\n",
              "      <td>0</td>\n",
              "      <td>0</td>\n",
              "      <td>0</td>\n",
              "      <td>0</td>\n",
              "      <td>0</td>\n",
              "      <td>0</td>\n",
              "      <td>0</td>\n",
              "    </tr>\n",
              "  </tbody>\n",
              "</table>\n",
              "<p>98 rows × 14 columns</p>\n",
              "</div>"
            ],
            "text/plain": [
              "Room_Number                         1.0   2.0   3.0   ...  12.0  18.0  20.0\n",
              "Location                                              ...                  \n",
              "adiva desa parkcity, kuala lumpur      0     0     0  ...     0     0     0\n",
              "alam damai, kuala lumpur               0     0     0  ...     0     0     0\n",
              "ampang hilir, kuala lumpur            72    60    57  ...     0     0     0\n",
              "ampang, kuala lumpur                 189   191   226  ...     0     0     0\n",
              "bandar damai perdana, kuala lumpur     0     0    17  ...     0     0     0\n",
              "...                                  ...   ...   ...  ...   ...   ...   ...\n",
              "taming jaya, kuala lumpur              0     0     0  ...     0     0     0\n",
              "titiwangsa, kuala lumpur               5    11    92  ...     0     0     0\n",
              "ukay heights, kuala lumpur             0     0     0  ...     0     0     0\n",
              "wangsa maju, kuala lumpur              6   138   377  ...     0     0     0\n",
              "wangsa melawati, kuala lumpur          0     0     0  ...     0     0     0\n",
              "\n",
              "[98 rows x 14 columns]"
            ]
          },
          "metadata": {},
          "execution_count": 177
        }
      ]
    },
    {
      "cell_type": "code",
      "metadata": {
        "colab": {
          "base_uri": "https://localhost:8080/",
          "height": 394
        },
        "id": "uasYYKEMdjkl",
        "outputId": "e524b8ea-69f1-4803-ea72-036c835adaec"
      },
      "source": [
        "pd.crosstab(df_listproperty['Property_Type_Grouping'], df_listproperty['Room_Number'])"
      ],
      "execution_count": null,
      "outputs": [
        {
          "output_type": "execute_result",
          "data": {
            "text/html": [
              "<div>\n",
              "<style scoped>\n",
              "    .dataframe tbody tr th:only-of-type {\n",
              "        vertical-align: middle;\n",
              "    }\n",
              "\n",
              "    .dataframe tbody tr th {\n",
              "        vertical-align: top;\n",
              "    }\n",
              "\n",
              "    .dataframe thead th {\n",
              "        text-align: right;\n",
              "    }\n",
              "</style>\n",
              "<table border=\"1\" class=\"dataframe\">\n",
              "  <thead>\n",
              "    <tr style=\"text-align: right;\">\n",
              "      <th>Room_Number</th>\n",
              "      <th>1.0</th>\n",
              "      <th>2.0</th>\n",
              "      <th>3.0</th>\n",
              "      <th>4.0</th>\n",
              "      <th>5.0</th>\n",
              "      <th>6.0</th>\n",
              "      <th>7.0</th>\n",
              "      <th>8.0</th>\n",
              "      <th>9.0</th>\n",
              "      <th>10.0</th>\n",
              "      <th>11.0</th>\n",
              "      <th>12.0</th>\n",
              "      <th>18.0</th>\n",
              "      <th>20.0</th>\n",
              "    </tr>\n",
              "    <tr>\n",
              "      <th>Property_Type_Grouping</th>\n",
              "      <th></th>\n",
              "      <th></th>\n",
              "      <th></th>\n",
              "      <th></th>\n",
              "      <th></th>\n",
              "      <th></th>\n",
              "      <th></th>\n",
              "      <th></th>\n",
              "      <th></th>\n",
              "      <th></th>\n",
              "      <th></th>\n",
              "      <th></th>\n",
              "      <th></th>\n",
              "      <th></th>\n",
              "    </tr>\n",
              "  </thead>\n",
              "  <tbody>\n",
              "    <tr>\n",
              "      <th>Apartment</th>\n",
              "      <td>23</td>\n",
              "      <td>200</td>\n",
              "      <td>1329</td>\n",
              "      <td>113</td>\n",
              "      <td>5</td>\n",
              "      <td>1</td>\n",
              "      <td>2</td>\n",
              "      <td>0</td>\n",
              "      <td>0</td>\n",
              "      <td>0</td>\n",
              "      <td>0</td>\n",
              "      <td>0</td>\n",
              "      <td>0</td>\n",
              "      <td>0</td>\n",
              "    </tr>\n",
              "    <tr>\n",
              "      <th>Bungalow</th>\n",
              "      <td>7</td>\n",
              "      <td>0</td>\n",
              "      <td>255</td>\n",
              "      <td>106</td>\n",
              "      <td>442</td>\n",
              "      <td>680</td>\n",
              "      <td>431</td>\n",
              "      <td>141</td>\n",
              "      <td>41</td>\n",
              "      <td>9</td>\n",
              "      <td>1</td>\n",
              "      <td>1</td>\n",
              "      <td>1</td>\n",
              "      <td>0</td>\n",
              "    </tr>\n",
              "    <tr>\n",
              "      <th>Cluster House</th>\n",
              "      <td>0</td>\n",
              "      <td>0</td>\n",
              "      <td>1</td>\n",
              "      <td>4</td>\n",
              "      <td>1</td>\n",
              "      <td>3</td>\n",
              "      <td>0</td>\n",
              "      <td>0</td>\n",
              "      <td>0</td>\n",
              "      <td>0</td>\n",
              "      <td>0</td>\n",
              "      <td>0</td>\n",
              "      <td>0</td>\n",
              "      <td>0</td>\n",
              "    </tr>\n",
              "    <tr>\n",
              "      <th>Condominium</th>\n",
              "      <td>619</td>\n",
              "      <td>1846</td>\n",
              "      <td>9000</td>\n",
              "      <td>7657</td>\n",
              "      <td>2977</td>\n",
              "      <td>553</td>\n",
              "      <td>84</td>\n",
              "      <td>7</td>\n",
              "      <td>2</td>\n",
              "      <td>1</td>\n",
              "      <td>1</td>\n",
              "      <td>1</td>\n",
              "      <td>0</td>\n",
              "      <td>0</td>\n",
              "    </tr>\n",
              "    <tr>\n",
              "      <th>Flat</th>\n",
              "      <td>1</td>\n",
              "      <td>110</td>\n",
              "      <td>257</td>\n",
              "      <td>3</td>\n",
              "      <td>2</td>\n",
              "      <td>0</td>\n",
              "      <td>0</td>\n",
              "      <td>0</td>\n",
              "      <td>0</td>\n",
              "      <td>0</td>\n",
              "      <td>0</td>\n",
              "      <td>0</td>\n",
              "      <td>0</td>\n",
              "      <td>0</td>\n",
              "    </tr>\n",
              "    <tr>\n",
              "      <th>Residential Land</th>\n",
              "      <td>11</td>\n",
              "      <td>1</td>\n",
              "      <td>352</td>\n",
              "      <td>3</td>\n",
              "      <td>11</td>\n",
              "      <td>0</td>\n",
              "      <td>2</td>\n",
              "      <td>1</td>\n",
              "      <td>1</td>\n",
              "      <td>0</td>\n",
              "      <td>0</td>\n",
              "      <td>0</td>\n",
              "      <td>0</td>\n",
              "      <td>2</td>\n",
              "    </tr>\n",
              "    <tr>\n",
              "      <th>Semi-detached House</th>\n",
              "      <td>0</td>\n",
              "      <td>0</td>\n",
              "      <td>54</td>\n",
              "      <td>131</td>\n",
              "      <td>742</td>\n",
              "      <td>890</td>\n",
              "      <td>261</td>\n",
              "      <td>24</td>\n",
              "      <td>5</td>\n",
              "      <td>2</td>\n",
              "      <td>0</td>\n",
              "      <td>0</td>\n",
              "      <td>0</td>\n",
              "      <td>0</td>\n",
              "    </tr>\n",
              "    <tr>\n",
              "      <th>Serviced Residence</th>\n",
              "      <td>2518</td>\n",
              "      <td>4256</td>\n",
              "      <td>4406</td>\n",
              "      <td>1670</td>\n",
              "      <td>338</td>\n",
              "      <td>63</td>\n",
              "      <td>8</td>\n",
              "      <td>0</td>\n",
              "      <td>0</td>\n",
              "      <td>1</td>\n",
              "      <td>0</td>\n",
              "      <td>0</td>\n",
              "      <td>0</td>\n",
              "      <td>0</td>\n",
              "    </tr>\n",
              "    <tr>\n",
              "      <th>Terrace/Link House</th>\n",
              "      <td>8</td>\n",
              "      <td>130</td>\n",
              "      <td>1342</td>\n",
              "      <td>3122</td>\n",
              "      <td>1898</td>\n",
              "      <td>963</td>\n",
              "      <td>255</td>\n",
              "      <td>43</td>\n",
              "      <td>9</td>\n",
              "      <td>2</td>\n",
              "      <td>2</td>\n",
              "      <td>3</td>\n",
              "      <td>0</td>\n",
              "      <td>0</td>\n",
              "    </tr>\n",
              "    <tr>\n",
              "      <th>Townhouse</th>\n",
              "      <td>0</td>\n",
              "      <td>20</td>\n",
              "      <td>275</td>\n",
              "      <td>209</td>\n",
              "      <td>35</td>\n",
              "      <td>2</td>\n",
              "      <td>6</td>\n",
              "      <td>0</td>\n",
              "      <td>0</td>\n",
              "      <td>0</td>\n",
              "      <td>0</td>\n",
              "      <td>0</td>\n",
              "      <td>0</td>\n",
              "      <td>0</td>\n",
              "    </tr>\n",
              "  </tbody>\n",
              "</table>\n",
              "</div>"
            ],
            "text/plain": [
              "Room_Number             1.0   2.0   3.0   4.0   ...  11.0  12.0  18.0  20.0\n",
              "Property_Type_Grouping                          ...                        \n",
              "Apartment                 23   200  1329   113  ...     0     0     0     0\n",
              "Bungalow                   7     0   255   106  ...     1     1     1     0\n",
              "Cluster House              0     0     1     4  ...     0     0     0     0\n",
              "Condominium              619  1846  9000  7657  ...     1     1     0     0\n",
              "Flat                       1   110   257     3  ...     0     0     0     0\n",
              "Residential Land          11     1   352     3  ...     0     0     0     2\n",
              "Semi-detached House        0     0    54   131  ...     0     0     0     0\n",
              "Serviced Residence      2518  4256  4406  1670  ...     0     0     0     0\n",
              "Terrace/Link House         8   130  1342  3122  ...     2     3     0     0\n",
              "Townhouse                  0    20   275   209  ...     0     0     0     0\n",
              "\n",
              "[10 rows x 14 columns]"
            ]
          },
          "metadata": {},
          "execution_count": 178
        }
      ]
    },
    {
      "cell_type": "code",
      "metadata": {
        "colab": {
          "base_uri": "https://localhost:8080/",
          "height": 394
        },
        "id": "XZJtSqwbgHDO",
        "outputId": "4e9346a4-fb39-4e04-be3c-8b95e7dbb4f8"
      },
      "source": [
        "pd.crosstab(df_listproperty['Property_Type_Grouping'], df_listproperty['Size_Type'])"
      ],
      "execution_count": null,
      "outputs": [
        {
          "output_type": "execute_result",
          "data": {
            "text/html": [
              "<div>\n",
              "<style scoped>\n",
              "    .dataframe tbody tr th:only-of-type {\n",
              "        vertical-align: middle;\n",
              "    }\n",
              "\n",
              "    .dataframe tbody tr th {\n",
              "        vertical-align: top;\n",
              "    }\n",
              "\n",
              "    .dataframe thead th {\n",
              "        text-align: right;\n",
              "    }\n",
              "</style>\n",
              "<table border=\"1\" class=\"dataframe\">\n",
              "  <thead>\n",
              "    <tr style=\"text-align: right;\">\n",
              "      <th>Size_Type</th>\n",
              "      <th>Built-up</th>\n",
              "      <th>Land area</th>\n",
              "    </tr>\n",
              "    <tr>\n",
              "      <th>Property_Type_Grouping</th>\n",
              "      <th></th>\n",
              "      <th></th>\n",
              "    </tr>\n",
              "  </thead>\n",
              "  <tbody>\n",
              "    <tr>\n",
              "      <th>Apartment</th>\n",
              "      <td>1499</td>\n",
              "      <td>134</td>\n",
              "    </tr>\n",
              "    <tr>\n",
              "      <th>Bungalow</th>\n",
              "      <td>169</td>\n",
              "      <td>1925</td>\n",
              "    </tr>\n",
              "    <tr>\n",
              "      <th>Cluster House</th>\n",
              "      <td>2</td>\n",
              "      <td>7</td>\n",
              "    </tr>\n",
              "    <tr>\n",
              "      <th>Condominium</th>\n",
              "      <td>21078</td>\n",
              "      <td>1235</td>\n",
              "    </tr>\n",
              "    <tr>\n",
              "      <th>Flat</th>\n",
              "      <td>333</td>\n",
              "      <td>30</td>\n",
              "    </tr>\n",
              "    <tr>\n",
              "      <th>Residential Land</th>\n",
              "      <td>30</td>\n",
              "      <td>347</td>\n",
              "    </tr>\n",
              "    <tr>\n",
              "      <th>Semi-detached House</th>\n",
              "      <td>214</td>\n",
              "      <td>1870</td>\n",
              "    </tr>\n",
              "    <tr>\n",
              "      <th>Serviced Residence</th>\n",
              "      <td>12260</td>\n",
              "      <td>691</td>\n",
              "    </tr>\n",
              "    <tr>\n",
              "      <th>Terrace/Link House</th>\n",
              "      <td>1135</td>\n",
              "      <td>6503</td>\n",
              "    </tr>\n",
              "    <tr>\n",
              "      <th>Townhouse</th>\n",
              "      <td>344</td>\n",
              "      <td>190</td>\n",
              "    </tr>\n",
              "  </tbody>\n",
              "</table>\n",
              "</div>"
            ],
            "text/plain": [
              "Size_Type               Built-up  Land area\n",
              "Property_Type_Grouping                     \n",
              "Apartment                   1499        134\n",
              "Bungalow                     169       1925\n",
              "Cluster House                  2          7\n",
              "Condominium                21078       1235\n",
              "Flat                         333         30\n",
              "Residential Land              30        347\n",
              "Semi-detached House          214       1870\n",
              "Serviced Residence         12260        691\n",
              "Terrace/Link House          1135       6503\n",
              "Townhouse                    344        190"
            ]
          },
          "metadata": {},
          "execution_count": 179
        }
      ]
    },
    {
      "cell_type": "code",
      "metadata": {
        "colab": {
          "base_uri": "https://localhost:8080/",
          "height": 394
        },
        "id": "b-Gvy1BCgcVn",
        "outputId": "b0a71288-7946-45d8-abfe-67e1d2415f91"
      },
      "source": [
        "pd.crosstab(df_listproperty['Property_Type_Grouping'], df_listproperty['Furnishing'])"
      ],
      "execution_count": null,
      "outputs": [
        {
          "output_type": "execute_result",
          "data": {
            "text/html": [
              "<div>\n",
              "<style scoped>\n",
              "    .dataframe tbody tr th:only-of-type {\n",
              "        vertical-align: middle;\n",
              "    }\n",
              "\n",
              "    .dataframe tbody tr th {\n",
              "        vertical-align: top;\n",
              "    }\n",
              "\n",
              "    .dataframe thead th {\n",
              "        text-align: right;\n",
              "    }\n",
              "</style>\n",
              "<table border=\"1\" class=\"dataframe\">\n",
              "  <thead>\n",
              "    <tr style=\"text-align: right;\">\n",
              "      <th>Furnishing</th>\n",
              "      <th>Fully Furnished</th>\n",
              "      <th>Partly Furnished</th>\n",
              "      <th>Unfurnished</th>\n",
              "      <th>Unknown</th>\n",
              "    </tr>\n",
              "    <tr>\n",
              "      <th>Property_Type_Grouping</th>\n",
              "      <th></th>\n",
              "      <th></th>\n",
              "      <th></th>\n",
              "      <th></th>\n",
              "    </tr>\n",
              "  </thead>\n",
              "  <tbody>\n",
              "    <tr>\n",
              "      <th>Apartment</th>\n",
              "      <td>199</td>\n",
              "      <td>926</td>\n",
              "      <td>253</td>\n",
              "      <td>25</td>\n",
              "    </tr>\n",
              "    <tr>\n",
              "      <th>Bungalow</th>\n",
              "      <td>202</td>\n",
              "      <td>1130</td>\n",
              "      <td>305</td>\n",
              "      <td>55</td>\n",
              "    </tr>\n",
              "    <tr>\n",
              "      <th>Cluster House</th>\n",
              "      <td>0</td>\n",
              "      <td>6</td>\n",
              "      <td>1</td>\n",
              "      <td>0</td>\n",
              "    </tr>\n",
              "    <tr>\n",
              "      <th>Condominium</th>\n",
              "      <td>6367</td>\n",
              "      <td>11427</td>\n",
              "      <td>2176</td>\n",
              "      <td>222</td>\n",
              "    </tr>\n",
              "    <tr>\n",
              "      <th>Flat</th>\n",
              "      <td>9</td>\n",
              "      <td>152</td>\n",
              "      <td>98</td>\n",
              "      <td>7</td>\n",
              "    </tr>\n",
              "    <tr>\n",
              "      <th>Residential Land</th>\n",
              "      <td>6</td>\n",
              "      <td>11</td>\n",
              "      <td>66</td>\n",
              "      <td>26</td>\n",
              "    </tr>\n",
              "    <tr>\n",
              "      <th>Semi-detached House</th>\n",
              "      <td>298</td>\n",
              "      <td>1262</td>\n",
              "      <td>296</td>\n",
              "      <td>25</td>\n",
              "    </tr>\n",
              "    <tr>\n",
              "      <th>Serviced Residence</th>\n",
              "      <td>5679</td>\n",
              "      <td>5105</td>\n",
              "      <td>1002</td>\n",
              "      <td>80</td>\n",
              "    </tr>\n",
              "    <tr>\n",
              "      <th>Terrace/Link House</th>\n",
              "      <td>761</td>\n",
              "      <td>4701</td>\n",
              "      <td>1269</td>\n",
              "      <td>103</td>\n",
              "    </tr>\n",
              "    <tr>\n",
              "      <th>Townhouse</th>\n",
              "      <td>71</td>\n",
              "      <td>354</td>\n",
              "      <td>58</td>\n",
              "      <td>6</td>\n",
              "    </tr>\n",
              "  </tbody>\n",
              "</table>\n",
              "</div>"
            ],
            "text/plain": [
              "Furnishing              Fully Furnished  Partly Furnished  Unfurnished  Unknown\n",
              "Property_Type_Grouping                                                         \n",
              "Apartment                           199               926          253       25\n",
              "Bungalow                            202              1130          305       55\n",
              "Cluster House                         0                 6            1        0\n",
              "Condominium                        6367             11427         2176      222\n",
              "Flat                                  9               152           98        7\n",
              "Residential Land                      6                11           66       26\n",
              "Semi-detached House                 298              1262          296       25\n",
              "Serviced Residence                 5679              5105         1002       80\n",
              "Terrace/Link House                  761              4701         1269      103\n",
              "Townhouse                            71               354           58        6"
            ]
          },
          "metadata": {},
          "execution_count": 180
        }
      ]
    },
    {
      "cell_type": "code",
      "metadata": {
        "colab": {
          "base_uri": "https://localhost:8080/"
        },
        "id": "_az-UCB3OTwO",
        "outputId": "e29ef5d5-9128-4c4b-a288-d1261847a90e"
      },
      "source": [
        "df_loc = df_listproperty.groupby('Location')['Price'].median().sort_values(ascending=False)\n",
        "df_loc"
      ],
      "execution_count": null,
      "outputs": [
        {
          "output_type": "execute_result",
          "data": {
            "text/plain": [
              "Location\n",
              "bukit damansara, kuala lumpur              4900000\n",
              "gurney, kuala lumpur                       4700000\n",
              "bukit kiara, kuala lumpur                  4680000\n",
              "duta nusantara, kuala lumpur               4450000\n",
              "country heights damansara, kuala lumpur    4290540\n",
              "                                            ...   \n",
              "pandan jaya, kuala lumpur                   430000\n",
              "jinjang, kuala lumpur                       344000\n",
              "desa petaling, kuala lumpur                 339500\n",
              "bandar tasik selatan, kuala lumpur          330000\n",
              "pandan perdana, kuala lumpur                330000\n",
              "Name: Price, Length: 98, dtype: int64"
            ]
          },
          "metadata": {},
          "execution_count": 181
        }
      ]
    },
    {
      "cell_type": "markdown",
      "metadata": {
        "id": "zwNCzVgIlQot"
      },
      "source": [
        "**Temuan:**\n",
        "\n",
        "Dari perbandingan tingkat harga properti dan lokasinya, dapat diketahui bahwa lokasi yang memiliki nilai median tertinggi ada pada wilayah Bukit Damansara dengan nilai properti 4.900.000. Sedangkan yang terendah berada pada wilayah Pandan Perdana dengan nilai 330.000.   "
      ]
    },
    {
      "cell_type": "code",
      "metadata": {
        "colab": {
          "base_uri": "https://localhost:8080/"
        },
        "id": "-kvWh_AGWvNp",
        "outputId": "0e888951-8bf1-4a79-922c-7b4b3af679a9"
      },
      "source": [
        "df_type = df_listproperty.groupby('Property_Type_Grouping')['Price'].median().sort_values(ascending=False)\n",
        "df_type"
      ],
      "execution_count": null,
      "outputs": [
        {
          "output_type": "execute_result",
          "data": {
            "text/plain": [
              "Property_Type_Grouping\n",
              "Bungalow               3950000\n",
              "Residential Land       3388590\n",
              "Semi-detached House    2800000\n",
              "Terrace/Link House     1100000\n",
              "Cluster House           990000\n",
              "Townhouse               850000\n",
              "Condominium             850000\n",
              "Serviced Residence      810000\n",
              "Apartment               345000\n",
              "Flat                    198000\n",
              "Name: Price, dtype: int64"
            ]
          },
          "metadata": {},
          "execution_count": 182
        }
      ]
    },
    {
      "cell_type": "markdown",
      "metadata": {
        "id": "Drg8iy0Xl3en"
      },
      "source": [
        "**Temuan:**\n",
        "\n",
        "Dari perbandingan tingkat harga properti dan tipe properti, dapat diketahui bahwa tipe properti yang memiliki nilai median tertinggi adalah Bungalow dengan nilai properti 3.950.000. Sedangkan yang terendah adalah Flat dengan nilai 198.000. "
      ]
    },
    {
      "cell_type": "code",
      "metadata": {
        "colab": {
          "base_uri": "https://localhost:8080/"
        },
        "id": "-JSMTV59Xxkz",
        "outputId": "4c3bb9f8-52b0-4aca-8791-6cd86529f9ad"
      },
      "source": [
        "df_sizetype = df_listproperty.groupby('Size_Type')['Price'].median().sort_values(ascending=False)\n",
        "df_sizetype"
      ],
      "execution_count": null,
      "outputs": [
        {
          "output_type": "execute_result",
          "data": {
            "text/plain": [
              "Size_Type\n",
              "Land area    1380000\n",
              "Built-up      830000\n",
              "Name: Price, dtype: int64"
            ]
          },
          "metadata": {},
          "execution_count": 183
        }
      ]
    },
    {
      "cell_type": "markdown",
      "metadata": {
        "id": "BRCDo96tmLJz"
      },
      "source": [
        "**Temuan:**\n",
        "\n",
        "Dari perbandingan tingkat harga properti dan tipe ukuran, dapat diketahui bahwa tipe ukuran yang memiliki nilai median tertinggi adalah Land area dengan nilai properti 1.380.000 dan yang terendah adalah Built-up dengan nilai 830.000. "
      ]
    },
    {
      "cell_type": "code",
      "metadata": {
        "colab": {
          "base_uri": "https://localhost:8080/"
        },
        "id": "fswmI726YMV4",
        "outputId": "07f39e07-0c17-4b32-edee-9025479272a0"
      },
      "source": [
        "df_sizenum = df_listproperty.groupby('Size_Sqft')['Price'].median().sort_values(ascending=False)\n",
        "df_sizenum"
      ],
      "execution_count": null,
      "outputs": [
        {
          "output_type": "execute_result",
          "data": {
            "text/plain": [
              "Size_Sqft\n",
              "9870.0     6218100.0\n",
              "10358.0    6214800.0\n",
              "5646.0     6210600.0\n",
              "4277.0     6200000.0\n",
              "9450.0     6200000.0\n",
              "             ...    \n",
              "626.0         2000.0\n",
              "1217.0        2000.0\n",
              "21000.0        650.0\n",
              "12820.0        550.0\n",
              "10680.0        550.0\n",
              "Name: Price, Length: 3537, dtype: float64"
            ]
          },
          "metadata": {},
          "execution_count": 184
        }
      ]
    },
    {
      "cell_type": "markdown",
      "metadata": {
        "id": "TfKz1oThmj74"
      },
      "source": [
        "**Temuan:**\n",
        "\n",
        "Dari perbandingan tingkat harga properti dan luasan area, dapat diketahui bahwa yang memiliki luasan area dengan nilai median tertinggi adalah luasan area 9870 sq ft dengan nilai properti 6.218.100. Sedangkan yang terendah adalah luasan area 10680 dengan nilai properti 550.\n",
        "\n",
        "Dapat dilihat dalam perbandingan ini bahwa masih ditemukan adanya nilai yang kurang logis, hal ini dikarenakan adanya kemungkinan nilai outlier atau kesalahan penulisan pada input nilai size."
      ]
    },
    {
      "cell_type": "code",
      "metadata": {
        "colab": {
          "base_uri": "https://localhost:8080/"
        },
        "id": "DYsgshDnYkiJ",
        "outputId": "bbb7f805-7c14-449f-e30d-0ebb76ddb88b"
      },
      "source": [
        "df_furnishing = df_listproperty.groupby('Furnishing')['Price'].median().sort_values(ascending=False)\n",
        "df_furnishing"
      ],
      "execution_count": null,
      "outputs": [
        {
          "output_type": "execute_result",
          "data": {
            "text/plain": [
              "Furnishing\n",
              "Fully Furnished     1050000\n",
              "Partly Furnished     950000\n",
              "Unknown              775000\n",
              "Unfurnished          680000\n",
              "Name: Price, dtype: int64"
            ]
          },
          "metadata": {},
          "execution_count": 185
        }
      ]
    },
    {
      "cell_type": "markdown",
      "metadata": {
        "id": "673Tr3S8oHf4"
      },
      "source": [
        "**Temuan:**\n",
        "\n",
        "Dari perbandingan tingkat harga properti dan tipe perabotan, dapat diketahui bahwa yang memiliki tipe perabotan dengan nilai median tertinggi adalah perabotan lengkap dengan nilai properti 1.050.000. Sedangkan yang terendah adalah tanpa perabotan dengan nilai properti 680.000."
      ]
    },
    {
      "cell_type": "code",
      "metadata": {
        "colab": {
          "base_uri": "https://localhost:8080/",
          "height": 206
        },
        "id": "NwQLfzgSiemw",
        "outputId": "be26de2c-bdc3-489c-ade2-0ae9fabd4013"
      },
      "source": [
        "# correlation matrix analysis\n",
        "corr = df_listproperty.corr()\n",
        "corr"
      ],
      "execution_count": null,
      "outputs": [
        {
          "output_type": "execute_result",
          "data": {
            "text/html": [
              "<div>\n",
              "<style scoped>\n",
              "    .dataframe tbody tr th:only-of-type {\n",
              "        vertical-align: middle;\n",
              "    }\n",
              "\n",
              "    .dataframe tbody tr th {\n",
              "        vertical-align: top;\n",
              "    }\n",
              "\n",
              "    .dataframe thead th {\n",
              "        text-align: right;\n",
              "    }\n",
              "</style>\n",
              "<table border=\"1\" class=\"dataframe\">\n",
              "  <thead>\n",
              "    <tr style=\"text-align: right;\">\n",
              "      <th></th>\n",
              "      <th>Price</th>\n",
              "      <th>Bathrooms</th>\n",
              "      <th>Car Parks</th>\n",
              "      <th>Room_Number</th>\n",
              "      <th>Size_Sqft</th>\n",
              "    </tr>\n",
              "  </thead>\n",
              "  <tbody>\n",
              "    <tr>\n",
              "      <th>Price</th>\n",
              "      <td>1.000000</td>\n",
              "      <td>0.658827</td>\n",
              "      <td>0.396735</td>\n",
              "      <td>0.540027</td>\n",
              "      <td>0.135327</td>\n",
              "    </tr>\n",
              "    <tr>\n",
              "      <th>Bathrooms</th>\n",
              "      <td>0.658827</td>\n",
              "      <td>1.000000</td>\n",
              "      <td>0.483662</td>\n",
              "      <td>0.830304</td>\n",
              "      <td>0.104406</td>\n",
              "    </tr>\n",
              "    <tr>\n",
              "      <th>Car Parks</th>\n",
              "      <td>0.396735</td>\n",
              "      <td>0.483662</td>\n",
              "      <td>1.000000</td>\n",
              "      <td>0.494136</td>\n",
              "      <td>0.082912</td>\n",
              "    </tr>\n",
              "    <tr>\n",
              "      <th>Room_Number</th>\n",
              "      <td>0.540027</td>\n",
              "      <td>0.830304</td>\n",
              "      <td>0.494136</td>\n",
              "      <td>1.000000</td>\n",
              "      <td>0.105164</td>\n",
              "    </tr>\n",
              "    <tr>\n",
              "      <th>Size_Sqft</th>\n",
              "      <td>0.135327</td>\n",
              "      <td>0.104406</td>\n",
              "      <td>0.082912</td>\n",
              "      <td>0.105164</td>\n",
              "      <td>1.000000</td>\n",
              "    </tr>\n",
              "  </tbody>\n",
              "</table>\n",
              "</div>"
            ],
            "text/plain": [
              "                Price  Bathrooms  Car Parks  Room_Number  Size_Sqft\n",
              "Price        1.000000   0.658827   0.396735     0.540027   0.135327\n",
              "Bathrooms    0.658827   1.000000   0.483662     0.830304   0.104406\n",
              "Car Parks    0.396735   0.483662   1.000000     0.494136   0.082912\n",
              "Room_Number  0.540027   0.830304   0.494136     1.000000   0.105164\n",
              "Size_Sqft    0.135327   0.104406   0.082912     0.105164   1.000000"
            ]
          },
          "metadata": {},
          "execution_count": 186
        }
      ]
    },
    {
      "cell_type": "code",
      "metadata": {
        "colab": {
          "base_uri": "https://localhost:8080/",
          "height": 596
        },
        "id": "WMzuaU38qYOn",
        "outputId": "11d0c2fd-b86d-4168-baae-2ef0269fb2b5"
      },
      "source": [
        "plt.figure(figsize = (20,10))        # Size of the figure\n",
        "sns.heatmap(df_listproperty.corr(),annot = True)\n",
        "plt.show()"
      ],
      "execution_count": null,
      "outputs": [
        {
          "output_type": "display_data",
          "data": {
            "image/png": "[encoded data removed]",
            "text/plain": [
              "<Figure size 1440x720 with 2 Axes>"
            ]
          },
          "metadata": {
            "needs_background": "light"
          }
        }
      ]
    },
    {
      "cell_type": "markdown",
      "metadata": {
        "id": "QXbUZmVBqUEQ"
      },
      "source": [
        "Dari nilai korelasi di atas, dapat diketahui bahwa terdapat korelasi yang positif antar nilai. Namun korelasi positif paling rendah ada pada nilai Size_Sqft, dikarenakan adanya kemungkinan nilai outlier. "
      ]
    },
    {
      "cell_type": "code",
      "metadata": {
        "colab": {
          "base_uri": "https://localhost:8080/"
        },
        "id": "9Z1OPHgtr02y",
        "outputId": "472c48e6-1231-4dde-c233-8b995e9dc9a5"
      },
      "source": [
        "df_listproperty.info()"
      ],
      "execution_count": null,
      "outputs": [
        {
          "output_type": "stream",
          "name": "stdout",
          "text": [
            "<class 'pandas.core.frame.DataFrame'>\n",
            "Int64Index: 50995 entries, 0 to 53882\n",
            "Data columns (total 9 columns):\n",
            " #   Column                  Non-Null Count  Dtype  \n",
            "---  ------                  --------------  -----  \n",
            " 0   Location                50995 non-null  object \n",
            " 1   Price                   50995 non-null  int64  \n",
            " 2   Bathrooms               50995 non-null  float64\n",
            " 3   Car Parks               50995 non-null  float64\n",
            " 4   Furnishing              44739 non-null  object \n",
            " 5   Room_Number             50995 non-null  float64\n",
            " 6   Property_Type_Grouping  50995 non-null  object \n",
            " 7   Size_Type               49996 non-null  object \n",
            " 8   Size_Sqft               49752 non-null  float64\n",
            "dtypes: float64(4), int64(1), object(4)\n",
            "memory usage: 3.9+ MB\n"
          ]
        }
      ]
    },
    {
      "cell_type": "markdown",
      "metadata": {
        "id": "LpRAuts2xTGj"
      },
      "source": [
        "# **CLUSTERING ANALYSIS**"
      ]
    },
    {
      "cell_type": "code",
      "metadata": {
        "colab": {
          "base_uri": "https://localhost:8080/",
          "height": 206
        },
        "id": "XDslBfoElg-b",
        "outputId": "0bad494d-b14a-4fee-cce4-6c4b5bfe1280"
      },
      "source": [
        "#Grouping data based on location to perform clustering analysis \n",
        "features = ['Price', 'Bathrooms', 'Car Parks', 'Room_Number']\n",
        "\n",
        "property_data = df_listproperty.dropna(axis=0)[features + ['Location']] #drop null value\n",
        "property_data.head()"
      ],
      "execution_count": null,
      "outputs": [
        {
          "output_type": "execute_result",
          "data": {
            "text/html": [
              "<div>\n",
              "<style scoped>\n",
              "    .dataframe tbody tr th:only-of-type {\n",
              "        vertical-align: middle;\n",
              "    }\n",
              "\n",
              "    .dataframe tbody tr th {\n",
              "        vertical-align: top;\n",
              "    }\n",
              "\n",
              "    .dataframe thead th {\n",
              "        text-align: right;\n",
              "    }\n",
              "</style>\n",
              "<table border=\"1\" class=\"dataframe\">\n",
              "  <thead>\n",
              "    <tr style=\"text-align: right;\">\n",
              "      <th></th>\n",
              "      <th>Price</th>\n",
              "      <th>Bathrooms</th>\n",
              "      <th>Car Parks</th>\n",
              "      <th>Room_Number</th>\n",
              "      <th>Location</th>\n",
              "    </tr>\n",
              "  </thead>\n",
              "  <tbody>\n",
              "    <tr>\n",
              "      <th>0</th>\n",
              "      <td>1250000</td>\n",
              "      <td>3.0</td>\n",
              "      <td>2.0</td>\n",
              "      <td>3.0</td>\n",
              "      <td>klcc, kuala lumpur</td>\n",
              "    </tr>\n",
              "    <tr>\n",
              "      <th>2</th>\n",
              "      <td>1030000</td>\n",
              "      <td>4.0</td>\n",
              "      <td>2.0</td>\n",
              "      <td>3.0</td>\n",
              "      <td>dutamas, kuala lumpur</td>\n",
              "    </tr>\n",
              "    <tr>\n",
              "      <th>4</th>\n",
              "      <td>900000</td>\n",
              "      <td>3.0</td>\n",
              "      <td>2.0</td>\n",
              "      <td>5.0</td>\n",
              "      <td>bukit jalil, kuala lumpur</td>\n",
              "    </tr>\n",
              "    <tr>\n",
              "      <th>5</th>\n",
              "      <td>5350000</td>\n",
              "      <td>5.0</td>\n",
              "      <td>4.0</td>\n",
              "      <td>6.0</td>\n",
              "      <td>taman tun dr ismail, kuala lumpur</td>\n",
              "    </tr>\n",
              "    <tr>\n",
              "      <th>7</th>\n",
              "      <td>2600000</td>\n",
              "      <td>4.0</td>\n",
              "      <td>4.0</td>\n",
              "      <td>5.0</td>\n",
              "      <td>taman tun dr ismail, kuala lumpur</td>\n",
              "    </tr>\n",
              "  </tbody>\n",
              "</table>\n",
              "</div>"
            ],
            "text/plain": [
              "     Price  Bathrooms  ...  Room_Number                           Location\n",
              "0  1250000        3.0  ...          3.0                 klcc, kuala lumpur\n",
              "2  1030000        4.0  ...          3.0              dutamas, kuala lumpur\n",
              "4   900000        3.0  ...          5.0          bukit jalil, kuala lumpur\n",
              "5  5350000        5.0  ...          6.0  taman tun dr ismail, kuala lumpur\n",
              "7  2600000        4.0  ...          5.0  taman tun dr ismail, kuala lumpur\n",
              "\n",
              "[5 rows x 5 columns]"
            ]
          },
          "metadata": {},
          "execution_count": 189
        }
      ]
    },
    {
      "cell_type": "code",
      "metadata": {
        "colab": {
          "base_uri": "https://localhost:8080/"
        },
        "id": "HrCm4X3SmS5Z",
        "outputId": "aa9d86dd-2365-4622-90c7-a751651c3244"
      },
      "source": [
        "property_data.info()"
      ],
      "execution_count": null,
      "outputs": [
        {
          "output_type": "stream",
          "name": "stdout",
          "text": [
            "<class 'pandas.core.frame.DataFrame'>\n",
            "Int64Index: 43822 entries, 0 to 53882\n",
            "Data columns (total 5 columns):\n",
            " #   Column       Non-Null Count  Dtype  \n",
            "---  ------       --------------  -----  \n",
            " 0   Price        43822 non-null  int64  \n",
            " 1   Bathrooms    43822 non-null  float64\n",
            " 2   Car Parks    43822 non-null  float64\n",
            " 3   Room_Number  43822 non-null  float64\n",
            " 4   Location     43822 non-null  object \n",
            "dtypes: float64(3), int64(1), object(1)\n",
            "memory usage: 2.0+ MB\n"
          ]
        }
      ]
    },
    {
      "cell_type": "code",
      "metadata": {
        "colab": {
          "base_uri": "https://localhost:8080/",
          "height": 206
        },
        "id": "7Gm15LMNmkdb",
        "outputId": "50da10dd-f579-4589-eb5a-deb0355a9055"
      },
      "source": [
        "property_group = property_data.groupby('Location').mean().reset_index().dropna(axis=0)\n",
        "property_group.head()"
      ],
      "execution_count": null,
      "outputs": [
        {
          "output_type": "execute_result",
          "data": {
            "text/html": [
              "<div>\n",
              "<style scoped>\n",
              "    .dataframe tbody tr th:only-of-type {\n",
              "        vertical-align: middle;\n",
              "    }\n",
              "\n",
              "    .dataframe tbody tr th {\n",
              "        vertical-align: top;\n",
              "    }\n",
              "\n",
              "    .dataframe thead th {\n",
              "        text-align: right;\n",
              "    }\n",
              "</style>\n",
              "<table border=\"1\" class=\"dataframe\">\n",
              "  <thead>\n",
              "    <tr style=\"text-align: right;\">\n",
              "      <th></th>\n",
              "      <th>Location</th>\n",
              "      <th>Price</th>\n",
              "      <th>Bathrooms</th>\n",
              "      <th>Car Parks</th>\n",
              "      <th>Room_Number</th>\n",
              "    </tr>\n",
              "  </thead>\n",
              "  <tbody>\n",
              "    <tr>\n",
              "      <th>0</th>\n",
              "      <td>adiva desa parkcity, kuala lumpur</td>\n",
              "      <td>2.150000e+06</td>\n",
              "      <td>4.500000</td>\n",
              "      <td>2.000000</td>\n",
              "      <td>4.500000</td>\n",
              "    </tr>\n",
              "    <tr>\n",
              "      <th>1</th>\n",
              "      <td>alam damai, kuala lumpur</td>\n",
              "      <td>8.800000e+05</td>\n",
              "      <td>4.000000</td>\n",
              "      <td>2.000000</td>\n",
              "      <td>4.000000</td>\n",
              "    </tr>\n",
              "    <tr>\n",
              "      <th>2</th>\n",
              "      <td>ampang hilir, kuala lumpur</td>\n",
              "      <td>2.513116e+06</td>\n",
              "      <td>3.426724</td>\n",
              "      <td>2.116379</td>\n",
              "      <td>3.693966</td>\n",
              "    </tr>\n",
              "    <tr>\n",
              "      <th>3</th>\n",
              "      <td>ampang, kuala lumpur</td>\n",
              "      <td>1.407272e+06</td>\n",
              "      <td>3.188318</td>\n",
              "      <td>2.009063</td>\n",
              "      <td>3.559919</td>\n",
              "    </tr>\n",
              "    <tr>\n",
              "      <th>4</th>\n",
              "      <td>bandar damai perdana, kuala lumpur</td>\n",
              "      <td>8.608826e+05</td>\n",
              "      <td>3.533333</td>\n",
              "      <td>2.177778</td>\n",
              "      <td>4.392593</td>\n",
              "    </tr>\n",
              "  </tbody>\n",
              "</table>\n",
              "</div>"
            ],
            "text/plain": [
              "                             Location         Price  ...  Car Parks  Room_Number\n",
              "0   adiva desa parkcity, kuala lumpur  2.150000e+06  ...   2.000000     4.500000\n",
              "1            alam damai, kuala lumpur  8.800000e+05  ...   2.000000     4.000000\n",
              "2          ampang hilir, kuala lumpur  2.513116e+06  ...   2.116379     3.693966\n",
              "3                ampang, kuala lumpur  1.407272e+06  ...   2.009063     3.559919\n",
              "4  bandar damai perdana, kuala lumpur  8.608826e+05  ...   2.177778     4.392593\n",
              "\n",
              "[5 rows x 5 columns]"
            ]
          },
          "metadata": {},
          "execution_count": 191
        }
      ]
    },
    {
      "cell_type": "code",
      "metadata": {
        "colab": {
          "base_uri": "https://localhost:8080/",
          "height": 300
        },
        "id": "yBStL1Iam5Ps",
        "outputId": "942f460e-9c88-43cc-d2f9-8f71898f4fa9"
      },
      "source": [
        "property_group.describe()"
      ],
      "execution_count": null,
      "outputs": [
        {
          "output_type": "execute_result",
          "data": {
            "text/html": [
              "<div>\n",
              "<style scoped>\n",
              "    .dataframe tbody tr th:only-of-type {\n",
              "        vertical-align: middle;\n",
              "    }\n",
              "\n",
              "    .dataframe tbody tr th {\n",
              "        vertical-align: top;\n",
              "    }\n",
              "\n",
              "    .dataframe thead th {\n",
              "        text-align: right;\n",
              "    }\n",
              "</style>\n",
              "<table border=\"1\" class=\"dataframe\">\n",
              "  <thead>\n",
              "    <tr style=\"text-align: right;\">\n",
              "      <th></th>\n",
              "      <th>Price</th>\n",
              "      <th>Bathrooms</th>\n",
              "      <th>Car Parks</th>\n",
              "      <th>Room_Number</th>\n",
              "    </tr>\n",
              "  </thead>\n",
              "  <tbody>\n",
              "    <tr>\n",
              "      <th>count</th>\n",
              "      <td>9.100000e+01</td>\n",
              "      <td>91.000000</td>\n",
              "      <td>91.000000</td>\n",
              "      <td>91.000000</td>\n",
              "    </tr>\n",
              "    <tr>\n",
              "      <th>mean</th>\n",
              "      <td>1.688982e+06</td>\n",
              "      <td>3.515059</td>\n",
              "      <td>2.242449</td>\n",
              "      <td>4.223285</td>\n",
              "    </tr>\n",
              "    <tr>\n",
              "      <th>std</th>\n",
              "      <td>1.073754e+06</td>\n",
              "      <td>1.343960</td>\n",
              "      <td>0.886569</td>\n",
              "      <td>1.330613</td>\n",
              "    </tr>\n",
              "    <tr>\n",
              "      <th>min</th>\n",
              "      <td>4.500000e+05</td>\n",
              "      <td>1.440994</td>\n",
              "      <td>1.000000</td>\n",
              "      <td>1.687500</td>\n",
              "    </tr>\n",
              "    <tr>\n",
              "      <th>25%</th>\n",
              "      <td>8.499422e+05</td>\n",
              "      <td>2.548705</td>\n",
              "      <td>1.815337</td>\n",
              "      <td>3.376222</td>\n",
              "    </tr>\n",
              "    <tr>\n",
              "      <th>50%</th>\n",
              "      <td>1.330000e+06</td>\n",
              "      <td>3.022117</td>\n",
              "      <td>2.000000</td>\n",
              "      <td>3.949959</td>\n",
              "    </tr>\n",
              "    <tr>\n",
              "      <th>75%</th>\n",
              "      <td>2.359416e+06</td>\n",
              "      <td>4.124575</td>\n",
              "      <td>2.226320</td>\n",
              "      <td>4.985075</td>\n",
              "    </tr>\n",
              "    <tr>\n",
              "      <th>max</th>\n",
              "      <td>4.900000e+06</td>\n",
              "      <td>7.000000</td>\n",
              "      <td>6.000000</td>\n",
              "      <td>8.000000</td>\n",
              "    </tr>\n",
              "  </tbody>\n",
              "</table>\n",
              "</div>"
            ],
            "text/plain": [
              "              Price  Bathrooms  Car Parks  Room_Number\n",
              "count  9.100000e+01  91.000000  91.000000    91.000000\n",
              "mean   1.688982e+06   3.515059   2.242449     4.223285\n",
              "std    1.073754e+06   1.343960   0.886569     1.330613\n",
              "min    4.500000e+05   1.440994   1.000000     1.687500\n",
              "25%    8.499422e+05   2.548705   1.815337     3.376222\n",
              "50%    1.330000e+06   3.022117   2.000000     3.949959\n",
              "75%    2.359416e+06   4.124575   2.226320     4.985075\n",
              "max    4.900000e+06   7.000000   6.000000     8.000000"
            ]
          },
          "metadata": {},
          "execution_count": 192
        }
      ]
    },
    {
      "cell_type": "code",
      "metadata": {
        "colab": {
          "base_uri": "https://localhost:8080/",
          "height": 300
        },
        "id": "Vt_1mqtnnFGW",
        "outputId": "e325341d-8f7f-4b98-c5cd-bd6f013c5e62"
      },
      "source": [
        "#Standardizing Data\n",
        "from sklearn import preprocessing\n",
        "\n",
        "property_group2 = property_group.copy()\n",
        "cols = ['Price', 'Bathrooms', 'Car Parks', 'Room_Number']\n",
        "\n",
        "property_group2[cols] = preprocessing.scale(property_group2[cols])\n",
        "property_group2.describe()"
      ],
      "execution_count": null,
      "outputs": [
        {
          "output_type": "execute_result",
          "data": {
            "text/html": [
              "<div>\n",
              "<style scoped>\n",
              "    .dataframe tbody tr th:only-of-type {\n",
              "        vertical-align: middle;\n",
              "    }\n",
              "\n",
              "    .dataframe tbody tr th {\n",
              "        vertical-align: top;\n",
              "    }\n",
              "\n",
              "    .dataframe thead th {\n",
              "        text-align: right;\n",
              "    }\n",
              "</style>\n",
              "<table border=\"1\" class=\"dataframe\">\n",
              "  <thead>\n",
              "    <tr style=\"text-align: right;\">\n",
              "      <th></th>\n",
              "      <th>Price</th>\n",
              "      <th>Bathrooms</th>\n",
              "      <th>Car Parks</th>\n",
              "      <th>Room_Number</th>\n",
              "    </tr>\n",
              "  </thead>\n",
              "  <tbody>\n",
              "    <tr>\n",
              "      <th>count</th>\n",
              "      <td>9.100000e+01</td>\n",
              "      <td>9.100000e+01</td>\n",
              "      <td>9.100000e+01</td>\n",
              "      <td>9.100000e+01</td>\n",
              "    </tr>\n",
              "    <tr>\n",
              "      <th>mean</th>\n",
              "      <td>-1.098023e-17</td>\n",
              "      <td>-3.538073e-16</td>\n",
              "      <td>-1.488431e-16</td>\n",
              "      <td>3.214767e-16</td>\n",
              "    </tr>\n",
              "    <tr>\n",
              "      <th>std</th>\n",
              "      <td>1.005540e+00</td>\n",
              "      <td>1.005540e+00</td>\n",
              "      <td>1.005540e+00</td>\n",
              "      <td>1.005540e+00</td>\n",
              "    </tr>\n",
              "    <tr>\n",
              "      <th>min</th>\n",
              "      <td>-1.160271e+00</td>\n",
              "      <td>-1.551799e+00</td>\n",
              "      <td>-1.409177e+00</td>\n",
              "      <td>-1.916285e+00</td>\n",
              "    </tr>\n",
              "    <tr>\n",
              "      <th>25%</th>\n",
              "      <td>-7.857363e-01</td>\n",
              "      <td>-7.230181e-01</td>\n",
              "      <td>-4.844277e-01</td>\n",
              "      <td>-6.401234e-01</td>\n",
              "    </tr>\n",
              "    <tr>\n",
              "      <th>50%</th>\n",
              "      <td>-3.361759e-01</td>\n",
              "      <td>-3.688153e-01</td>\n",
              "      <td>-2.749836e-01</td>\n",
              "      <td>-2.065517e-01</td>\n",
              "    </tr>\n",
              "    <tr>\n",
              "      <th>75%</th>\n",
              "      <td>6.278425e-01</td>\n",
              "      <td>4.560348e-01</td>\n",
              "      <td>-1.829322e-02</td>\n",
              "      <td>5.756822e-01</td>\n",
              "    </tr>\n",
              "    <tr>\n",
              "      <th>max</th>\n",
              "      <td>3.007027e+00</td>\n",
              "      <td>2.607405e+00</td>\n",
              "      <td>4.261790e+00</td>\n",
              "      <td>2.854053e+00</td>\n",
              "    </tr>\n",
              "  </tbody>\n",
              "</table>\n",
              "</div>"
            ],
            "text/plain": [
              "              Price     Bathrooms     Car Parks   Room_Number\n",
              "count  9.100000e+01  9.100000e+01  9.100000e+01  9.100000e+01\n",
              "mean  -1.098023e-17 -3.538073e-16 -1.488431e-16  3.214767e-16\n",
              "std    1.005540e+00  1.005540e+00  1.005540e+00  1.005540e+00\n",
              "min   -1.160271e+00 -1.551799e+00 -1.409177e+00 -1.916285e+00\n",
              "25%   -7.857363e-01 -7.230181e-01 -4.844277e-01 -6.401234e-01\n",
              "50%   -3.361759e-01 -3.688153e-01 -2.749836e-01 -2.065517e-01\n",
              "75%    6.278425e-01  4.560348e-01 -1.829322e-02  5.756822e-01\n",
              "max    3.007027e+00  2.607405e+00  4.261790e+00  2.854053e+00"
            ]
          },
          "metadata": {},
          "execution_count": 193
        }
      ]
    },
    {
      "cell_type": "code",
      "metadata": {
        "colab": {
          "base_uri": "https://localhost:8080/",
          "height": 265
        },
        "id": "ibQkzLDcnftw",
        "outputId": "9924ac7a-d3d4-4363-cc85-bf382c308f52"
      },
      "source": [
        "from sklearn import cluster, tree, decomposition\n",
        "\n",
        "# Let's try arbitrarily 4 clusters \n",
        "km = cluster.KMeans(n_clusters=4)\n",
        "property_group2['cluster'] = km.fit_predict(property_group2[features])\n",
        "\n",
        "# Principal Component Analysis (PCA) is an unsupervised machine learning technique that attempts to derive a set of low-dimensional set of features from a much larger set.\n",
        "# Principal Component Analysis (PCA) is used for Visualizing High-Dimensional Data.\n",
        "pca = decomposition.PCA()\n",
        "property_group2['x'] = pca.fit_transform(property_group2[features])[:, 0]\n",
        "property_group2['y'] = pca.fit_transform(property_group2[features])[:, 1]\n",
        "plt.scatter(property_group2['x'], property_group2['y'], c=property_group2['cluster'])\n",
        "plt.show()"
      ],
      "execution_count": null,
      "outputs": [
        {
          "output_type": "display_data",
          "data": {
            "image/png": "[encoded data removed]",
            "text/plain": [
              "<Figure size 432x288 with 1 Axes>"
            ]
          },
          "metadata": {
            "needs_background": "light"
          }
        }
      ]
    },
    {
      "cell_type": "code",
      "metadata": {
        "colab": {
          "base_uri": "https://localhost:8080/",
          "height": 265
        },
        "id": "g5eJ5JGPxo6c",
        "outputId": "e0db0cd5-ada3-45fa-a4d0-84ec4954a424"
      },
      "source": [
        "# Let's try arbitrarily 3 clusters \n",
        "km = cluster.KMeans(n_clusters=3)\n",
        "property_group2['cluster'] = km.fit_predict(property_group2[features])\n",
        "\n",
        "# Principal Component Analysis (PCA) is an unsupervised machine learning technique that attempts to derive a set of low-dimensional set of features from a much larger set.\n",
        "# Principal Component Analysis (PCA) is used for Visualizing High-Dimensional Data.\n",
        "pca = decomposition.PCA()\n",
        "property_group2['x'] = pca.fit_transform(property_group2[features])[:, 0]\n",
        "property_group2['y'] = pca.fit_transform(property_group2[features])[:, 1]\n",
        "plt.scatter(property_group2['x'], property_group2['y'], c=property_group2['cluster'])\n",
        "plt.show()"
      ],
      "execution_count": null,
      "outputs": [
        {
          "output_type": "display_data",
          "data": {
            "image/png": "[encoded data removed]",
            "text/plain": [
              "<Figure size 432x288 with 1 Axes>"
            ]
          },
          "metadata": {
            "needs_background": "light"
          }
        }
      ]
    },
    {
      "cell_type": "code",
      "metadata": {
        "colab": {
          "base_uri": "https://localhost:8080/",
          "height": 265
        },
        "id": "7d8BqiPGoBM5",
        "outputId": "2f599705-6a87-4efe-f87f-a17703caa7d1"
      },
      "source": [
        "# Let's try arbitrarily 2 clusters \n",
        "km = cluster.KMeans(n_clusters=2)\n",
        "property_group2['cluster'] = km.fit_predict(property_group2[features])\n",
        "\n",
        "# Principal Component Analysis (PCA) is an unsupervised machine learning technique that attempts to derive a set of low-dimensional set of features from a much larger set.\n",
        "# Principal Component Analysis (PCA) is used for Visualizing High-Dimensional Data.\n",
        "pca = decomposition.PCA()\n",
        "property_group2['x'] = pca.fit_transform(property_group2[features])[:, 0]\n",
        "property_group2['y'] = pca.fit_transform(property_group2[features])[:, 1]\n",
        "plt.scatter(property_group2['x'], property_group2['y'], c=property_group2['cluster'])\n",
        "plt.show()"
      ],
      "execution_count": null,
      "outputs": [
        {
          "output_type": "display_data",
          "data": {
            "image/png": "[encoded data removed]",
            "text/plain": [
              "<Figure size 432x288 with 1 Axes>"
            ]
          },
          "metadata": {
            "needs_background": "light"
          }
        }
      ]
    },
    {
      "cell_type": "code",
      "metadata": {
        "colab": {
          "base_uri": "https://localhost:8080/",
          "height": 295
        },
        "id": "jp-0MY_XpBHL",
        "outputId": "b21df148-59f0-4254-cca5-6ef86176bf8b"
      },
      "source": [
        "#Elbow Method\n",
        "from sklearn.cluster import KMeans\n",
        "\n",
        "Sum_of_squared_distances = []\n",
        "\n",
        "# Use k from 1 to 15\n",
        "K = range(1,15)\n",
        "for k in K:\n",
        "    km = KMeans(n_clusters=k)\n",
        "    km = km.fit(property_group2[features])\n",
        "    # Get sum of square distances by applying km.inertia_ \n",
        "    Sum_of_squared_distances.append(km.inertia_)\n",
        "\n",
        "# Plot Results\n",
        "plt.plot(K, Sum_of_squared_distances, marker='o')\n",
        "plt.xlabel('k')\n",
        "plt.ylabel('Sum_of_squared_distances')\n",
        "plt.title('Elbow Method For Optimal k')\n",
        "plt.xticks(K)\n",
        "#plt.yticks(Sum_of_squared_distances)\n",
        "plt.show()"
      ],
      "execution_count": null,
      "outputs": [
        {
          "output_type": "display_data",
          "data": {
            "image/png": "[encoded data removed]",
            "text/plain": [
              "<Figure size 432x288 with 1 Axes>"
            ]
          },
          "metadata": {
            "needs_background": "light"
          }
        }
      ]
    },
    {
      "cell_type": "code",
      "metadata": {
        "colab": {
          "base_uri": "https://localhost:8080/"
        },
        "id": "FxxRNi9hpbHu",
        "outputId": "1efa0c97-ad9a-47c8-de09-49e0647dfebc"
      },
      "source": [
        "#Shilhoutte Coefficient\n",
        "from sklearn.metrics import silhouette_score\n",
        "from sklearn.cluster import KMeans\n",
        "\n",
        "for n_cluster in range(2, 11):\n",
        "    kmeans = KMeans(n_clusters=n_cluster).fit(property_group2[features])\n",
        "    label = kmeans.labels_\n",
        "    sil_coeff = silhouette_score(property_group2[features], label, metric='euclidean')\n",
        "    print(\"For n_clusters={}, The Silhouette Coefficient is {}\".format(n_cluster, sil_coeff))"
      ],
      "execution_count": null,
      "outputs": [
        {
          "output_type": "stream",
          "name": "stdout",
          "text": [
            "For n_clusters=2, The Silhouette Coefficient is 0.5451798058647649\n",
            "For n_clusters=3, The Silhouette Coefficient is 0.4806497972761709\n",
            "For n_clusters=4, The Silhouette Coefficient is 0.4137021828929871\n",
            "For n_clusters=5, The Silhouette Coefficient is 0.3134428725295544\n",
            "For n_clusters=6, The Silhouette Coefficient is 0.31032536782697273\n",
            "For n_clusters=7, The Silhouette Coefficient is 0.301526460262324\n",
            "For n_clusters=8, The Silhouette Coefficient is 0.31033279330154045\n",
            "For n_clusters=9, The Silhouette Coefficient is 0.2914794517773829\n",
            "For n_clusters=10, The Silhouette Coefficient is 0.27305131529927457\n"
          ]
        }
      ]
    },
    {
      "cell_type": "markdown",
      "metadata": {
        "id": "BZ0F6Sl5xovU"
      },
      "source": [
        "**Jumlah Cluster yang dipilih**\n",
        "\n",
        "Dari nilai koefisien siluet dan visualisasi elbow method, jumlah kluster yang dipilih adalah 3, karena memiliki nilai koefisien siluet yang cukup tinggi dan secara visual perubahan nilai jumlah jarak kuadrat pada metode elbow mulai melandai.  "
      ]
    },
    {
      "cell_type": "code",
      "metadata": {
        "colab": {
          "base_uri": "https://localhost:8080/",
          "height": 265
        },
        "id": "gsW3xl4SrZQg",
        "outputId": "2759f6c3-b510-4ce4-ea82-ec132c5e5e4f"
      },
      "source": [
        "km = cluster.KMeans(n_clusters=3)\n",
        "property_group2['cluster'] = km.fit_predict(property_group2[features])\n",
        "\n",
        "pca = decomposition.PCA()\n",
        "property_group2['x'] = pca.fit_transform(property_group2[features])[:, 0]\n",
        "property_group2['y'] = pca.fit_transform(property_group2[features])[:, 1]\n",
        "plt.scatter(property_group2['x'], property_group2['y'], c=property_group2['cluster'])\n",
        "plt.show()"
      ],
      "execution_count": null,
      "outputs": [
        {
          "output_type": "display_data",
          "data": {
            "image/png": "[encoded data removed]",
            "text/plain": [
              "<Figure size 432x288 with 1 Axes>"
            ]
          },
          "metadata": {
            "needs_background": "light"
          }
        }
      ]
    },
    {
      "cell_type": "code",
      "metadata": {
        "colab": {
          "base_uri": "https://localhost:8080/",
          "height": 143
        },
        "id": "GtpLvtjcp1p5",
        "outputId": "bb480cdb-c572-4f67-c666-1ec9d510353b"
      },
      "source": [
        "property_group3 = property_group.merge(property_group2[['Location','cluster']]).groupby('cluster').mean() #for every column\n",
        "property_group3.reset_index(level=0, inplace=True)\n",
        "property_group3"
      ],
      "execution_count": null,
      "outputs": [
        {
          "output_type": "execute_result",
          "data": {
            "text/html": [
              "<div>\n",
              "<style scoped>\n",
              "    .dataframe tbody tr th:only-of-type {\n",
              "        vertical-align: middle;\n",
              "    }\n",
              "\n",
              "    .dataframe tbody tr th {\n",
              "        vertical-align: top;\n",
              "    }\n",
              "\n",
              "    .dataframe thead th {\n",
              "        text-align: right;\n",
              "    }\n",
              "</style>\n",
              "<table border=\"1\" class=\"dataframe\">\n",
              "  <thead>\n",
              "    <tr style=\"text-align: right;\">\n",
              "      <th></th>\n",
              "      <th>cluster</th>\n",
              "      <th>Price</th>\n",
              "      <th>Bathrooms</th>\n",
              "      <th>Car Parks</th>\n",
              "      <th>Room_Number</th>\n",
              "    </tr>\n",
              "  </thead>\n",
              "  <tbody>\n",
              "    <tr>\n",
              "      <th>0</th>\n",
              "      <td>0</td>\n",
              "      <td>1.110637e+06</td>\n",
              "      <td>2.724531</td>\n",
              "      <td>1.871726</td>\n",
              "      <td>3.489507</td>\n",
              "    </tr>\n",
              "    <tr>\n",
              "      <th>1</th>\n",
              "      <td>1</td>\n",
              "      <td>2.476372e+06</td>\n",
              "      <td>4.877715</td>\n",
              "      <td>2.434414</td>\n",
              "      <td>5.449244</td>\n",
              "    </tr>\n",
              "    <tr>\n",
              "      <th>2</th>\n",
              "      <td>2</td>\n",
              "      <td>3.946592e+06</td>\n",
              "      <td>5.619048</td>\n",
              "      <td>4.761905</td>\n",
              "      <td>6.309524</td>\n",
              "    </tr>\n",
              "  </tbody>\n",
              "</table>\n",
              "</div>"
            ],
            "text/plain": [
              "   cluster         Price  Bathrooms  Car Parks  Room_Number\n",
              "0        0  1.110637e+06   2.724531   1.871726     3.489507\n",
              "1        1  2.476372e+06   4.877715   2.434414     5.449244\n",
              "2        2  3.946592e+06   5.619048   4.761905     6.309524"
            ]
          },
          "metadata": {},
          "execution_count": 203
        }
      ]
    },
    {
      "cell_type": "markdown",
      "metadata": {
        "id": "R3SzD_sSyWBW"
      },
      "source": [
        "**Temuan:**\n",
        "\n",
        "Dari hasil kluster di atas dapat diketahui bahwa nilai kluster ini menandakan grup tipe properti dari yang paling kecil di kluster 0 dengan nilai keseluruhan paling kecil, kemudian properti sedang di kluster 1 dan terakhir properti besar dengan nilai keseluruhan paling tinggi.\n"
      ]
    },
    {
      "cell_type": "code",
      "metadata": {
        "colab": {
          "base_uri": "https://localhost:8080/",
          "height": 143
        },
        "id": "vAm50lGG6ELC",
        "outputId": "49378f6e-d3df-4c0e-bcdd-f9e6bcf5657a"
      },
      "source": [
        "# create a list of our conditions\n",
        "conditions = [\n",
        "    (property_group3['cluster'] == 0),\n",
        "    (property_group3['cluster'] == 1),\n",
        "    (property_group3['cluster'] == 2)\n",
        "    ]\n",
        "\n",
        "# create a list of the values we want to assign for each condition\n",
        "values = ['Small Property', 'Medium Property', 'Large Property']\n",
        "\n",
        "# create a new column and use np.select to assign values to it using our lists as arguments\n",
        "property_group3['cluster'] = np.select(conditions, values)\n",
        "\n",
        "# display updated DataFrame\n",
        "property_group3"
      ],
      "execution_count": null,
      "outputs": [
        {
          "output_type": "execute_result",
          "data": {
            "text/html": [
              "<div>\n",
              "<style scoped>\n",
              "    .dataframe tbody tr th:only-of-type {\n",
              "        vertical-align: middle;\n",
              "    }\n",
              "\n",
              "    .dataframe tbody tr th {\n",
              "        vertical-align: top;\n",
              "    }\n",
              "\n",
              "    .dataframe thead th {\n",
              "        text-align: right;\n",
              "    }\n",
              "</style>\n",
              "<table border=\"1\" class=\"dataframe\">\n",
              "  <thead>\n",
              "    <tr style=\"text-align: right;\">\n",
              "      <th></th>\n",
              "      <th>cluster</th>\n",
              "      <th>Price</th>\n",
              "      <th>Bathrooms</th>\n",
              "      <th>Car Parks</th>\n",
              "      <th>Room_Number</th>\n",
              "    </tr>\n",
              "  </thead>\n",
              "  <tbody>\n",
              "    <tr>\n",
              "      <th>0</th>\n",
              "      <td>Small Property</td>\n",
              "      <td>1.110637e+06</td>\n",
              "      <td>2.724531</td>\n",
              "      <td>1.871726</td>\n",
              "      <td>3.489507</td>\n",
              "    </tr>\n",
              "    <tr>\n",
              "      <th>1</th>\n",
              "      <td>Medium Property</td>\n",
              "      <td>2.476372e+06</td>\n",
              "      <td>4.877715</td>\n",
              "      <td>2.434414</td>\n",
              "      <td>5.449244</td>\n",
              "    </tr>\n",
              "    <tr>\n",
              "      <th>2</th>\n",
              "      <td>Large Property</td>\n",
              "      <td>3.946592e+06</td>\n",
              "      <td>5.619048</td>\n",
              "      <td>4.761905</td>\n",
              "      <td>6.309524</td>\n",
              "    </tr>\n",
              "  </tbody>\n",
              "</table>\n",
              "</div>"
            ],
            "text/plain": [
              "           cluster         Price  Bathrooms  Car Parks  Room_Number\n",
              "0   Small Property  1.110637e+06   2.724531   1.871726     3.489507\n",
              "1  Medium Property  2.476372e+06   4.877715   2.434414     5.449244\n",
              "2   Large Property  3.946592e+06   5.619048   4.761905     6.309524"
            ]
          },
          "metadata": {},
          "execution_count": 204
        }
      ]
    }
  ]
}